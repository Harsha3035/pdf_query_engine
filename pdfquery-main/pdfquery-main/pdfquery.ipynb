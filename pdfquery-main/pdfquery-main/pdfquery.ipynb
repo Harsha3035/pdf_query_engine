{
  "cells": [
    {
      "cell_type": "markdown",
      "metadata": {
        "id": "wrgOhk8U4Rpl"
      },
      "source": [
        "# Quickstart: Querying PDF With Astra and LangChain\n",
        "\n",
        "### A question-answering demo using Astra DB and LangChain, powered by Vector Search"
      ]
    },
    {
      "cell_type": "markdown",
      "metadata": {
        "id": "MqfJKgRM4Rpo"
      },
      "source": [
        "#### Pre-requisites:\n",
        "\n",
        "You need a **_Serverless Cassandra with Vector Search_** database on [Astra DB](https://astra.datastax.com) to run this demo. As outlined in more detail [here](https://docs.datastax.com/en/astra-serverless/docs/vector-search/quickstart.html#_prepare_for_using_your_vector_database), you should get a DB Token with role _Database Administrator_ and copy your Database ID: these connection parameters are needed momentarily.\n",
        "\n",
        "You also need an [OpenAI API Key](https://cassio.org/start_here/#llm-access) for this demo to work.\n",
        "\n",
        "#### What you will do:\n",
        "\n",
        "- Setup: import dependencies, provide secrets, create the LangChain vector store;\n",
        "- Run a Question-Answering loop retrieving the relevant headlines and having an LLM construct the answer."
      ]
    },
    {
      "cell_type": "markdown",
      "metadata": {
        "id": "m_FeN-Ep4Rpp"
      },
      "source": [
        "Install the required dependencies:"
      ]
    },
    {
      "cell_type": "code",
      "execution_count": 1,
      "metadata": {
        "id": "Uk0qUhJUQrkO",
        "outputId": "8ac7e87a-9861-49af-bfaf-30a9c3af23ad",
        "colab": {
          "base_uri": "https://localhost:8080/"
        }
      },
      "outputs": [
        {
          "output_type": "stream",
          "name": "stdout",
          "text": [
            "\u001b[2K     \u001b[90m━━━━━━━━━━━━━━━━━━━━━━━━━━━━━━━━━━━━━━━━\u001b[0m \u001b[32m45.1/45.1 kB\u001b[0m \u001b[31m471.7 kB/s\u001b[0m eta \u001b[36m0:00:00\u001b[0m\n",
            "\u001b[2K     \u001b[90m━━━━━━━━━━━━━━━━━━━━━━━━━━━━━━━━━━━━━━━━\u001b[0m \u001b[32m547.8/547.8 kB\u001b[0m \u001b[31m3.9 MB/s\u001b[0m eta \u001b[36m0:00:00\u001b[0m\n",
            "\u001b[2K     \u001b[90m━━━━━━━━━━━━━━━━━━━━━━━━━━━━━━━━━━━━━━━━\u001b[0m \u001b[32m974.6/974.6 kB\u001b[0m \u001b[31m6.2 MB/s\u001b[0m eta \u001b[36m0:00:00\u001b[0m\n",
            "\u001b[2K     \u001b[90m━━━━━━━━━━━━━━━━━━━━━━━━━━━━━━━━━━━━━━━━\u001b[0m \u001b[32m325.5/325.5 kB\u001b[0m \u001b[31m22.0 MB/s\u001b[0m eta \u001b[36m0:00:00\u001b[0m\n",
            "\u001b[2K     \u001b[90m━━━━━━━━━━━━━━━━━━━━━━━━━━━━━━━━━━━━━━━━\u001b[0m \u001b[32m1.1/1.1 MB\u001b[0m \u001b[31m46.3 MB/s\u001b[0m eta \u001b[36m0:00:00\u001b[0m\n",
            "\u001b[2K     \u001b[90m━━━━━━━━━━━━━━━━━━━━━━━━━━━━━━━━━━━━━━━━\u001b[0m \u001b[32m18.9/18.9 MB\u001b[0m \u001b[31m45.0 MB/s\u001b[0m eta \u001b[36m0:00:00\u001b[0m\n",
            "\u001b[2K     \u001b[90m━━━━━━━━━━━━━━━━━━━━━━━━━━━━━━━━━━━━━━━━\u001b[0m \u001b[32m40.8/40.8 MB\u001b[0m \u001b[31m11.2 MB/s\u001b[0m eta \u001b[36m0:00:00\u001b[0m\n",
            "\u001b[2K     \u001b[90m━━━━━━━━━━━━━━━━━━━━━━━━━━━━━━━━━━━━━━━━\u001b[0m \u001b[32m116.3/116.3 kB\u001b[0m \u001b[31m5.7 MB/s\u001b[0m eta \u001b[36m0:00:00\u001b[0m\n",
            "\u001b[2K     \u001b[90m━━━━━━━━━━━━━━━━━━━━━━━━━━━━━━━━━━━━━━━━\u001b[0m \u001b[32m64.9/64.9 kB\u001b[0m \u001b[31m5.4 MB/s\u001b[0m eta \u001b[36m0:00:00\u001b[0m\n",
            "\u001b[2K     \u001b[90m━━━━━━━━━━━━━━━━━━━━━━━━━━━━━━━━━━━━━━━━\u001b[0m \u001b[32m194.1/194.1 kB\u001b[0m \u001b[31m6.1 MB/s\u001b[0m eta \u001b[36m0:00:00\u001b[0m\n",
            "\u001b[2K     \u001b[90m━━━━━━━━━━━━━━━━━━━━━━━━━━━━━━━━━━━━━━━━\u001b[0m \u001b[32m134.8/134.8 kB\u001b[0m \u001b[31m9.5 MB/s\u001b[0m eta \u001b[36m0:00:00\u001b[0m\n",
            "\u001b[2K     \u001b[90m━━━━━━━━━━━━━━━━━━━━━━━━━━━━━━━━━━━━━━━━\u001b[0m \u001b[32m315.8/315.8 kB\u001b[0m \u001b[31m14.1 MB/s\u001b[0m eta \u001b[36m0:00:00\u001b[0m\n",
            "\u001b[2K     \u001b[90m━━━━━━━━━━━━━━━━━━━━━━━━━━━━━━━━━━━━━━━━\u001b[0m \u001b[32m125.3/125.3 kB\u001b[0m \u001b[31m6.9 MB/s\u001b[0m eta \u001b[36m0:00:00\u001b[0m\n",
            "\u001b[2K     \u001b[90m━━━━━━━━━━━━━━━━━━━━━━━━━━━━━━━━━━━━━━━━\u001b[0m \u001b[32m75.6/75.6 kB\u001b[0m \u001b[31m6.1 MB/s\u001b[0m eta \u001b[36m0:00:00\u001b[0m\n",
            "\u001b[2K     \u001b[90m━━━━━━━━━━━━━━━━━━━━━━━━━━━━━━━━━━━━━━━━\u001b[0m \u001b[32m77.9/77.9 kB\u001b[0m \u001b[31m6.3 MB/s\u001b[0m eta \u001b[36m0:00:00\u001b[0m\n",
            "\u001b[2K     \u001b[90m━━━━━━━━━━━━━━━━━━━━━━━━━━━━━━━━━━━━━━━━\u001b[0m \u001b[32m58.3/58.3 kB\u001b[0m \u001b[31m4.4 MB/s\u001b[0m eta \u001b[36m0:00:00\u001b[0m\n",
            "\u001b[2K     \u001b[90m━━━━━━━━━━━━━━━━━━━━━━━━━━━━━━━━━━━━━━━━\u001b[0m \u001b[32m145.0/145.0 kB\u001b[0m \u001b[31m4.6 MB/s\u001b[0m eta \u001b[36m0:00:00\u001b[0m\n",
            "\u001b[?25h\u001b[31mERROR: pip's dependency resolver does not currently take into account all the packages that are installed. This behaviour is the source of the following dependency conflicts.\n",
            "cudf-cu12 24.4.1 requires pyarrow<15.0.0a0,>=14.0.1, but you have pyarrow 16.1.0 which is incompatible.\n",
            "google-colab 1.0.0 requires requests==2.31.0, but you have requests 2.32.3 which is incompatible.\n",
            "ibis-framework 8.0.0 requires pyarrow<16,>=2, but you have pyarrow 16.1.0 which is incompatible.\u001b[0m\u001b[31m\n",
            "\u001b[0m"
          ]
        }
      ],
      "source": [
        "!pip install -q cassio datasets langchain openai tiktoken"
      ]
    },
    {
      "cell_type": "markdown",
      "metadata": {
        "id": "XQQN-L2J4Rpq"
      },
      "source": [
        "Import the packages you'll need:"
      ]
    },
    {
      "cell_type": "code",
      "source": [
        "!pip install -U langchain-community"
      ],
      "metadata": {
        "id": "9QGUOyBX7HIS",
        "outputId": "bc408857-25b7-4913-8698-5d51e3dc6767",
        "colab": {
          "base_uri": "https://localhost:8080/"
        }
      },
      "execution_count": 2,
      "outputs": [
        {
          "output_type": "stream",
          "name": "stdout",
          "text": [
            "Collecting langchain-community\n",
            "  Downloading langchain_community-0.2.5-py3-none-any.whl (2.2 MB)\n",
            "\u001b[2K     \u001b[90m━━━━━━━━━━━━━━━━━━━━━━━━━━━━━━━━━━━━━━━━\u001b[0m \u001b[32m2.2/2.2 MB\u001b[0m \u001b[31m7.2 MB/s\u001b[0m eta \u001b[36m0:00:00\u001b[0m\n",
            "\u001b[?25hRequirement already satisfied: PyYAML>=5.3 in /usr/local/lib/python3.10/dist-packages (from langchain-community) (6.0.1)\n",
            "Requirement already satisfied: SQLAlchemy<3,>=1.4 in /usr/local/lib/python3.10/dist-packages (from langchain-community) (2.0.30)\n",
            "Requirement already satisfied: aiohttp<4.0.0,>=3.8.3 in /usr/local/lib/python3.10/dist-packages (from langchain-community) (3.9.5)\n",
            "Collecting dataclasses-json<0.7,>=0.5.7 (from langchain-community)\n",
            "  Downloading dataclasses_json-0.6.7-py3-none-any.whl (28 kB)\n",
            "Requirement already satisfied: langchain<0.3.0,>=0.2.5 in /usr/local/lib/python3.10/dist-packages (from langchain-community) (0.2.5)\n",
            "Requirement already satisfied: langchain-core<0.3.0,>=0.2.7 in /usr/local/lib/python3.10/dist-packages (from langchain-community) (0.2.8)\n",
            "Requirement already satisfied: langsmith<0.2.0,>=0.1.0 in /usr/local/lib/python3.10/dist-packages (from langchain-community) (0.1.79)\n",
            "Requirement already satisfied: numpy<2,>=1 in /usr/local/lib/python3.10/dist-packages (from langchain-community) (1.25.2)\n",
            "Requirement already satisfied: requests<3,>=2 in /usr/local/lib/python3.10/dist-packages (from langchain-community) (2.32.3)\n",
            "Requirement already satisfied: tenacity<9.0.0,>=8.1.0 in /usr/local/lib/python3.10/dist-packages (from langchain-community) (8.3.0)\n",
            "Requirement already satisfied: aiosignal>=1.1.2 in /usr/local/lib/python3.10/dist-packages (from aiohttp<4.0.0,>=3.8.3->langchain-community) (1.3.1)\n",
            "Requirement already satisfied: attrs>=17.3.0 in /usr/local/lib/python3.10/dist-packages (from aiohttp<4.0.0,>=3.8.3->langchain-community) (23.2.0)\n",
            "Requirement already satisfied: frozenlist>=1.1.1 in /usr/local/lib/python3.10/dist-packages (from aiohttp<4.0.0,>=3.8.3->langchain-community) (1.4.1)\n",
            "Requirement already satisfied: multidict<7.0,>=4.5 in /usr/local/lib/python3.10/dist-packages (from aiohttp<4.0.0,>=3.8.3->langchain-community) (6.0.5)\n",
            "Requirement already satisfied: yarl<2.0,>=1.0 in /usr/local/lib/python3.10/dist-packages (from aiohttp<4.0.0,>=3.8.3->langchain-community) (1.9.4)\n",
            "Requirement already satisfied: async-timeout<5.0,>=4.0 in /usr/local/lib/python3.10/dist-packages (from aiohttp<4.0.0,>=3.8.3->langchain-community) (4.0.3)\n",
            "Collecting marshmallow<4.0.0,>=3.18.0 (from dataclasses-json<0.7,>=0.5.7->langchain-community)\n",
            "  Downloading marshmallow-3.21.3-py3-none-any.whl (49 kB)\n",
            "\u001b[2K     \u001b[90m━━━━━━━━━━━━━━━━━━━━━━━━━━━━━━━━━━━━━━━━\u001b[0m \u001b[32m49.2/49.2 kB\u001b[0m \u001b[31m1.8 MB/s\u001b[0m eta \u001b[36m0:00:00\u001b[0m\n",
            "\u001b[?25hCollecting typing-inspect<1,>=0.4.0 (from dataclasses-json<0.7,>=0.5.7->langchain-community)\n",
            "  Downloading typing_inspect-0.9.0-py3-none-any.whl (8.8 kB)\n",
            "Requirement already satisfied: langchain-text-splitters<0.3.0,>=0.2.0 in /usr/local/lib/python3.10/dist-packages (from langchain<0.3.0,>=0.2.5->langchain-community) (0.2.1)\n",
            "Requirement already satisfied: pydantic<3,>=1 in /usr/local/lib/python3.10/dist-packages (from langchain<0.3.0,>=0.2.5->langchain-community) (2.7.3)\n",
            "Requirement already satisfied: jsonpatch<2.0,>=1.33 in /usr/local/lib/python3.10/dist-packages (from langchain-core<0.3.0,>=0.2.7->langchain-community) (1.33)\n",
            "Requirement already satisfied: packaging<25,>=23.2 in /usr/local/lib/python3.10/dist-packages (from langchain-core<0.3.0,>=0.2.7->langchain-community) (24.1)\n",
            "Requirement already satisfied: orjson<4.0.0,>=3.9.14 in /usr/local/lib/python3.10/dist-packages (from langsmith<0.2.0,>=0.1.0->langchain-community) (3.10.5)\n",
            "Requirement already satisfied: charset-normalizer<4,>=2 in /usr/local/lib/python3.10/dist-packages (from requests<3,>=2->langchain-community) (3.3.2)\n",
            "Requirement already satisfied: idna<4,>=2.5 in /usr/local/lib/python3.10/dist-packages (from requests<3,>=2->langchain-community) (3.7)\n",
            "Requirement already satisfied: urllib3<3,>=1.21.1 in /usr/local/lib/python3.10/dist-packages (from requests<3,>=2->langchain-community) (2.0.7)\n",
            "Requirement already satisfied: certifi>=2017.4.17 in /usr/local/lib/python3.10/dist-packages (from requests<3,>=2->langchain-community) (2024.6.2)\n",
            "Requirement already satisfied: typing-extensions>=4.6.0 in /usr/local/lib/python3.10/dist-packages (from SQLAlchemy<3,>=1.4->langchain-community) (4.12.2)\n",
            "Requirement already satisfied: greenlet!=0.4.17 in /usr/local/lib/python3.10/dist-packages (from SQLAlchemy<3,>=1.4->langchain-community) (3.0.3)\n",
            "Requirement already satisfied: jsonpointer>=1.9 in /usr/local/lib/python3.10/dist-packages (from jsonpatch<2.0,>=1.33->langchain-core<0.3.0,>=0.2.7->langchain-community) (3.0.0)\n",
            "Requirement already satisfied: annotated-types>=0.4.0 in /usr/local/lib/python3.10/dist-packages (from pydantic<3,>=1->langchain<0.3.0,>=0.2.5->langchain-community) (0.7.0)\n",
            "Requirement already satisfied: pydantic-core==2.18.4 in /usr/local/lib/python3.10/dist-packages (from pydantic<3,>=1->langchain<0.3.0,>=0.2.5->langchain-community) (2.18.4)\n",
            "Collecting mypy-extensions>=0.3.0 (from typing-inspect<1,>=0.4.0->dataclasses-json<0.7,>=0.5.7->langchain-community)\n",
            "  Downloading mypy_extensions-1.0.0-py3-none-any.whl (4.7 kB)\n",
            "Installing collected packages: mypy-extensions, marshmallow, typing-inspect, dataclasses-json, langchain-community\n",
            "Successfully installed dataclasses-json-0.6.7 langchain-community-0.2.5 marshmallow-3.21.3 mypy-extensions-1.0.0 typing-inspect-0.9.0\n"
          ]
        }
      ]
    },
    {
      "cell_type": "code",
      "execution_count": 3,
      "metadata": {
        "id": "V4qBIihE4Rpq"
      },
      "outputs": [],
      "source": [
        "# LangChain components to use\n",
        "from langchain.vectorstores.cassandra import Cassandra\n",
        "from langchain.indexes.vectorstore import VectorStoreIndexWrapper\n",
        "from langchain.llms import OpenAI\n",
        "from langchain.embeddings import OpenAIEmbeddings\n",
        "\n",
        "# Support for dataset retrieval with Hugging Face\n",
        "from datasets import load_dataset\n",
        "\n",
        "# With CassIO, the engine powering the Astra DB integration in LangChain,\n",
        "# you will also initialize the DB connection:\n",
        "import cassio"
      ]
    },
    {
      "cell_type": "code",
      "source": [
        "!pip install PyPDF2"
      ],
      "metadata": {
        "colab": {
          "base_uri": "https://localhost:8080/"
        },
        "id": "WIs76OPQ6JyD",
        "outputId": "896f0296-ffd5-475a-d125-d303eda29c24"
      },
      "execution_count": 4,
      "outputs": [
        {
          "output_type": "stream",
          "name": "stdout",
          "text": [
            "Collecting PyPDF2\n",
            "  Downloading pypdf2-3.0.1-py3-none-any.whl (232 kB)\n",
            "\u001b[2K     \u001b[90m━━━━━━━━━━━━━━━━━━━━━━━━━━━━━━━━━━━━━━━━\u001b[0m \u001b[32m232.6/232.6 kB\u001b[0m \u001b[31m2.1 MB/s\u001b[0m eta \u001b[36m0:00:00\u001b[0m\n",
            "\u001b[?25hInstalling collected packages: PyPDF2\n",
            "Successfully installed PyPDF2-3.0.1\n"
          ]
        }
      ]
    },
    {
      "cell_type": "code",
      "source": [
        "from PyPDF2 import PdfReader"
      ],
      "metadata": {
        "id": "1itBNL1v6N9-"
      },
      "execution_count": 5,
      "outputs": []
    },
    {
      "cell_type": "markdown",
      "metadata": {
        "id": "Vu2UauiC4Rpr"
      },
      "source": [
        "### Setup"
      ]
    },
    {
      "cell_type": "code",
      "execution_count": 17,
      "metadata": {
        "id": "eqpM6I854Rpr"
      },
      "outputs": [],
      "source": [
        "ASTRA_DB_APPLICATION_TOKEN = \"\" # enter the \"AstraCS:...\" string found in in your Token JSON file\n",
        "ASTRA_DB_ID = \"\" # enter your Database ID\n",
        "\n",
        "OPENAI_API_KEY = \"\" # enter your OpenAI key"
      ]
    },
    {
      "cell_type": "markdown",
      "metadata": {
        "id": "Q1cmD5EF4Rpr"
      },
      "source": [
        "#### Provide your secrets:\n",
        "\n",
        "Replace the following with your Astra DB connection details and your OpenAI API key:"
      ]
    },
    {
      "cell_type": "code",
      "source": [
        "# provide the path of  pdf file/files.\n",
        "pdfreader = PdfReader('budget_speech.pdf')"
      ],
      "metadata": {
        "id": "waVKJW-n6jqJ"
      },
      "execution_count": 7,
      "outputs": []
    },
    {
      "cell_type": "code",
      "source": [
        "from typing_extensions import Concatenate\n",
        "# read text from pdf\n",
        "raw_text = ''\n",
        "for i, page in enumerate(pdfreader.pages):\n",
        "    content = page.extract_text()\n",
        "    if content:\n",
        "        raw_text += content"
      ],
      "metadata": {
        "id": "42BKuFRO6meP"
      },
      "execution_count": 8,
      "outputs": []
    },
    {
      "cell_type": "code",
      "source": [
        "raw_text"
      ],
      "metadata": {
        "colab": {
          "base_uri": "https://localhost:8080/",
          "height": 157
        },
        "id": "vR41Iq-4ZHnG",
        "outputId": "ddd35109-d147-4bb6-ed58-18efe9a4ac7b"
      },
      "execution_count": 9,
      "outputs": [
        {
          "output_type": "execute_result",
          "data": {
            "text/plain": [
              "'1 \\n     \\nBUDGET SPEECH 2014 BUDGET SPEECH 2014 BUDGET SPEECH 2014 BUDGET SPEECH 2014- - --15 15 15 15     \\n    \\nEsteemed Members of the Council, \\n \\nIt is a matter of great personal pride for me to prese nt before you the annual \\nbudget of this prestigious Council in its Centenary yea r.  The completion of one \\nhundred years is a major milestone in the history of any organization.  The \\ncommemoration of the Centenary of NDMC is obviously a  time for us to \\ncelebrate, but even more so, a time to celebrate our history.  The success story \\nof NDMC is now a century old and marks the contributio n of so many known and \\nunknown personalities who added significantly to its g rowth.  I stand here first & \\nforemost to pay our tribute to the vision and dedication  of our past leaders, \\nexecutives and thousands of employees, workers who ha ve worked with \\nceaseless passion to build up this organization over th e past century. \\n \\n1.2  The last 100 years were, for NDMC, the era of in frastructure \\ndevelopment, the dawn of a British Capital and the dawn  of a resurgent free \\nIndia\\'s Capital.  Today we stand on the shoulders of g iants to feel possessive \\nabout the most prestigeous Municipal area in the country,  in our further resolve \\nto provide best practices, state of the Art and globaly co mpetetive technology in \\nthe service of our inhabitants, as also our duty to attemp t a vision for the next \\ncentury\\'s picture of NDMC area. \\n \\n1.3  With these words, I now present Annual Budget 2014 -15.  \\n \\n2.  I will present the financial projections first. The  revised estimates for \\nrevenue receipts in 2013-14 are projected at ` ` `` 2490.64 crore 2490.64 crore 2490.64 crore 2490.64 crore against `2356.91 `2356.91 `2356.91 `2356.91 \\ncrore crore crore crore provided in BE 2013-14.  The revised estimates  for revenue expenditure in \\n2013-14 are projected at `2489.46 `2489.46 `2489.46 `2489.46 crore crore crore crore as against `2021.57 crore `2021.57 crore `2021.57 crore `2021.57 crore provided in \\nBE 2013-14. In the BE of 2014-15 the revenue receipts are estimated at    `2557.41 `2557.41 `2557.41 `2557.41 \\ncrore crore crore crore and revenue expenditure at `2555.93 crore `2555.93 crore `2555.93 crore `2555.93 crore.  The capital expenditure, is \\nprojected at `293.46 crore `293.46 crore `293.46 crore `293.46 crore in RE 2013-14 and    `441.33 crore `441.33 crore `441.33 crore `441.33 crore in BE 2014-15. This \\nbudget attempts and showcases an organic and sustainable  growth.   2 \\n  \\n3.  I will now mention the function-wise performance and achievements in \\nthe major areas during 2013-14, and the plans and pro jections for the year  \\n2014-15. \\n    \\nROADS AND PAVEMENTS ROADS AND PAVEMENTS ROADS AND PAVEMENTS ROADS AND PAVEMENTS     \\n    \\n3.1  Our attempt is to move towards longer-duration and r epair-free \\ntechnology for roads especially in residential areas  so as to minimise  citizens\\' \\ndiscomfort. The RCC (Reinforced Cement Concrete) road s in Lodhi Colony have \\nbeen completed and in Bharti Nagar Colony the work wil l be completed within \\nthis financial year. The work of laying cement concre te roads in the residential \\ncolony Sarojini Nagar has also been completed.  The  RMC work of DIZ area, \\nSector-II is in progress and will be completed in the  next financial year. \\n \\n3.2  Resurfacing of roads in Khan Market area through  bituminous mastic \\ntreatment has been completed and work is in progress  at B.K. Dutt Colony, \\nAliganj and Jor Bagh. \\n \\n3.3  Resurfacing of road through micro-surfacing trea tment as \\nrecommended by CRRI is in progress at 34 roads and m icro-surfacing is \\ncomplete at Ashoka Road and Ferozshah Road.  Another 6 roads with micro-\\nsurfacing will be completed in the next financial yea r.  In addition, to minimise \\nthe time and costs towards repairs especially of pothol es and small cuts in roads, \\nwe are experimenting with the model of hot mix patches a nd microsurfacing as \\nthe technology of choice.  \\n \\n3.4  To further continue our Road Improvement Program me, CRRI has been \\nrequested for evaluation and to give recommendations f or another 24 roads in \\nNDMC area for resurfacing of roads. \\n    \\n    \\n    3 \\n Resurfacing of colony road by bituminous concrete in  Bharti Nagar and \\ngolf Link and resurfacing of roads in the colony Rab indra Nagar, Lodhi Estate and \\nPandara Road will be carried out during the next finan cial year including the \\nimprovement of the back lane of Jor Bagh Colony. \\n    \\n3.5  Improvement of walkways in Lodhi Colony, Jor Ba gh Road, IInd Avenue \\nand Man Singh Road and improvement of the roundabout i n Bengali Market will \\nbe carried out during the next financial year, reducin g the number of non-\\nfunctional fountains to avoid water wastage and stagnation , and instead \\ndeveloping greenary & horticulture.    \\n \\n3.6  A provision of `108.76 crore `108.76 crore `108.76 crore `108.76 crore has been kept for Roads and Pavements i n \\nBE 2014-15, out of which `50.20 `50.20 `50.20 `50.20 crore crore crore crore are for capital expenditure.  \\n    \\n4. 4. 4. 4.        REDEVELOPMENT OF CONNAUGHT PLACE REDEVELOPMENT OF CONNAUGHT PLACE REDEVELOPMENT OF CONNAUGHT PLACE REDEVELOPMENT OF CONNAUGHT PLACE    \\n    \\n4.1  The grandeur of Connaught Place has been revive d with the \\ncompletion of Redevelopment of Connaught Place Projec t which  included façade \\nrestoration of 12 blocks, Regal Building and P-Block ;  surface development at \\nInner Circle, Radial Roads and Outer circle alongwith  parking area and public \\nplaza.   Besides, five existing subways and two new subways at Gopal Dass \\nBhawan and Statesman House have been completed.  Twenty -two escalators \\nhave also been provided as per the site feasibility a nd are now in public use. \\n \\n4.2  Dedicated pedestrian corridors at Inner Circle, Middle Circle, Radial \\nRoads and Outer Circle have been created which are in ter-connected through \\ntabletops for the safety and security of the pedestrians,  and are user-friendly for \\nthe disabled.  Display of the block names in Braille language is another salient \\nfeature. \\n    \\n4.3  The Service Corridor (Utility Duct Tunnel) at Midd le Circle, Connaught \\nPlace is complete and various utility services such a s water supply, electricity, \\ntelecommunication services etc., are now being run thr ough this service corridor.  \\nThis tunnel was opened for visit by the general public  for ten days, and we join 4 \\n the general public in appreciation of hard-work of ou r engineers.  The control \\nroom for the service corridor will commence shortly w ith an O&M for it.  The \\nenormity of the project can be gauged by the fact that for  the past century, \\nthere were almost no instances of subterranean repairs , inspection or even clear \\nmaps & plans of these tunnels. \\n \\n4.4  The mechanized housekeeping in Connaught Place at corridors, public \\nplaza, footpaths, parking areas, toilets, subways etc. w ill be carried out in the \\ncoming years under Design, Built, Operate & Transfer (DBOT) basis with \\nprovision for installation of street furniture by the co ncessionaire.   \\n \\n4.5  Connaught Place/ Circus, or Rajiv Chowk/ Indira  Chowk as it stands \\nrenamed since 1995, is the pride of NDMC area.  The work is by no means \\nentirely as per our commitment to ourselves, yet the c rowds that eventually \\nthronged the C.P. Festival did point to the enthusiasm and  never-say-die attitude \\nof the Delhi Shopper to grab sales offers. \\n \\n  Areas such as Scindia House, Middle Circle and the  Radial Roads, left \\nout during 2010, will be more exhaustively planned fo r revival.  We envisage \\nthat some day soon, the tunnel infrastructure can be use d for  Centralised Air-\\nConditioning of the Connaught Place Complex and even th e surrounding multi-\\nstoreyed buildings, apart from water, electricity and oth er Civic Amenities.  We \\nwould be engaging financial & technical consultants thi s year and \\nimplementation would commence in the next financial ye ar.  \\n    \\n    \\n5. 5. 5. 5.        ELECTRICITY ELECTRICITY ELECTRICITY ELECTRICITY    \\n    \\n5.1  Construction of four new 33 KV Sub-stations at Chur ch Road, Janpath, \\nAliganj & Delhi High Court were planned in the previo us two years.  Sub-station \\nbuildings for 33 KV Sub-station at Aliganj and at Delhi  High Court are being \\nconstructed by CPWD/ Delhi PWD.  The establishment of 33 KV Sub-stations at \\nthese two sites will be completed in the next financial  year after handover of \\nbuilt-up area by these agencies.  As regards constru ction of a 33 KV Sub-Station 5 \\n at Janpath, an alternative site at the parking behind Tol stoy Marg has been \\nidentified after DDA had rejected the proposal for all otment of land.  Building \\nPlan/ structural drawings for the same are being final ized and we expect to \\ncomplete the project in the next financial year.  Cons truction of a 33 KV Sub-\\nStation at Church Road, for which MoU with DMRC has bee n revised, is now \\nexpected to be completed in 2015-16. \\n \\n5.2  After completion of work for construction of elev en nos. 11 KV Sub-\\nStations, we plan to establish 11 KV Sub-Stations at Ameri can Embassy School, \\nChanakya Puri and Africa  Avenue Cross Road No.II i n addition to establishing 11 \\nKV Sub-station under the redevelopment plan for Sunehar i Bagh & Palika Gram \\nin the next financial year. \\n \\n5.3  The work of installation of CCTV cameras in our commercial & office \\ncomplexes and electric sub-station buildings, which was announced last year, \\nhas already been awarded and will be completed in th e next financial year  \\n2014-15. \\n \\n5.4  Apart from creating additional electricity distributi on capacity through \\nconstruction of new 33 KV / 11 KV Sub-stations, we have  regularly been \\naugmenting and replacing our old electrical installati ons to ensure uninterrupted \\nelectricity supply to residents/ consumers in NDMC are a.  We shall take  up \\naugmentation of one 33 KV electric sub-station at Kidwai Nagar, augmentation of \\n11 KV electric sub-stations at  Sapru House and at Air Force Station, Race \\nCourse; besides augmentation and replacement of vari ous electrical feeder \\ncables; equipments; plant & machinery. \\n \\n5.5  A provision of    `1018.79 crore `1018.79 crore `1018.79 crore `1018.79 crore in BE 2014-15 has been kept for \\nElectricity out of which `87.31 crore are `87.31 crore are `87.31 crore are `87.31 crore are for capital expenditure including `1 8.66 `18.66 `18.66 `18.66 \\ncrore crore crore crore for replacement works. \\n    \\n    \\n    6 \\n 6. 6. 6. 6.        WATER SUPPLY WATER SUPPLY WATER SUPPLY WATER SUPPLY    \\n    \\n6.1 The work of replacement of 450 mm dia water mains  along Tilak Marg \\nfrom Sikandra Road to UGR at Tilak Lane Boosting Station  and installation of \\ndeep well hand pumps at various locations undertaken l ast year have been \\ncompleted. \\n \\n6.2 The Detailed Project Report for `153 crore `153 crore `153 crore `153 crore in respect of the project of \\n“Uninterrupted 24X7 Water Supply in NDMC area” has alr eady been approved \\nby the Council.  The Project was submitted to MoUD for funding under JNNURM \\nand I am glad to inform that the scheme has been approv ed in principle and the \\nfinal approval is expected soon.  This should be a model for civic agencies in \\nthat it involves the sustainable concept of saving, recyc ling and waste \\nminimisation as the three core approaches simultaneou sly. \\n \\n6.3 To further improve the water supply in NDMC area the following work \\nshall be taken up during 2014-15 :  \\n \\ni)  Recasting of roof slab of U/G water tank at Laxmi Bai N agar, New Delhi;     \\nii)  Augmentation of municipal water mains running at Pt. Pa nt Marg & \\nParliament Street to provide water to the PHA Extension bui lding;     \\niii)  Replacement of old 9 inch dia line with DI pipe of 25 0 mm from 16 \\nBlock to 22 Block, Lodhi Colony;     \\niv)  Replacement of 75mm DI line with 150mm dia line at San sad Marg;    \\nv)  Replacement of old pipeline in Bengali Market Area;    \\nvi)  Replacement of old water mains in the Back Lanes of Pu rana Quila \\nRoad, Mathura Road, Guru Har Kishan Public School, P atiala House \\nCourts & adjoining area;     \\nvii)  Replacement of old 5” dia CI line with 150mm DI line at Safdarjung \\nlane, New Delhi;    \\n \\n    7 \\n viii)  Replacement of 100/50/30HP Pump sets with new (same ca pacity) \\nPump sets along with electrical/ mechanical fixtures u nder the \\njurisdiction of Jor Bagh/Tilak Marg Service Centres;  \\nix)  Procurement of 10 Nos. Water Tanker & 10 Nos. Water Tr olleys made \\nof stainless steel. \\n    \\n6.4  A budget provision of `121.34 `121.34 `121.34 `121.34 crore crore crore crore has been kept for Water supply \\nservices in the BE 2014-15, out of which `12.16 `12.16 `12.16 `12.16 crore crore crore crore are for capital expenditure. \\n    \\n7. 7. 7. 7.        SEWERAGE SEWERAGE SEWERAGE SEWERAGE    \\n    \\n7.1  The work of improvement of sewerage system at Suj an Singh Park, \\nKhan Market, Princess Park (Part-I) and Tilak Marg h ave been completed. \\n \\n7.2  As announced last year, the Pilot Project for con struction of Tertiary \\nTreatment Plant at Talkatora Garden has been started and s hall be completed in \\nthe next financial year. \\n \\n7.3  Desilting & Rehabilitation of Sewer Line at Ashok a Road from \\nNirwachan Sadan to C-Hexagon; and; desilting and Reha bilitation of 84 inch dia \\nbrick barrel sewer line from Kasturba Gandhi Marg, C -Hexagon & Shahjahan \\nRoad to Q Point have already been taken up and will be  completed in the next \\nfinancial year. \\n \\n7.4  A budget provision of `47.06 crore `47.06 crore `47.06 crore `47.06 crore has been kept for sewerage in BE \\n2014-15 out of which `4.98 crore `4.98 crore `4.98 crore `4.98 crore are for capital expenditure. \\n \\n8. 8. 8. 8.        STORM WATER DRAINAGE STORM WATER DRAINAGE STORM WATER DRAINAGE STORM WATER DRAINAGE    \\n    \\n8.1  The storm water drainage system in NDMC area will  be improved as \\nper the advice of IIT, Delhi and the retrofitting, if r equired, will also be carried out \\nafter de-silting the drainage system. \\n    8 \\n 8.2  The work of providing 126 Nos. rain water harve sting pits in Moti Bagh, \\nNetaji Nagar, Sarojini Nagar and Laxmi Bai Nagar CPW D colonies will be taken up \\nin next financial year 2014-15.    \\n    \\n8.3  A provision of `4.57 `4.57 `4.57 `4.57 crore crore crore crore has been kept for Storm Water Drainage \\nsystem in BE 2014-15, out of which `3.27 crore `3.27 crore `3.27 crore `3.27 crore are for capital expenditure. \\n    \\n9. 9. 9. 9.        HORTICULTURE HORTICULTURE HORTICULTURE HORTICULTURE    \\n \\n9.1  We plan to maintain NDMC\\'s prestigious place as the greenest \\nMunicipal Area in the Country.  To this end, developme nt of garden huts in \\nmajor gardens has been completed whereas the work for  Topiary Garden in \\nTalkatora Garden is in progress. \\n \\n9.2  The School of Gardening – an NDMC initiative to enhance the \\nknowledge and work efficiency in Horticulture – has tr ained 2700-plus field \\nofficers and staff, not only from NDMC but also from Central, South and West \\nZones of South Delhi Municipal Corporation.  We plan to include interested \\nRWAs, schools, Eco-Clubs and general public for trai ning sessions in NDMC \\nSchool of Gardening \\n \\n9.3  We plan to undertake the following new horticulture  works in the next \\nfinancial year : \\n \\ni)  A green house shall be provided in the Nursery at Cir cular Road;  \\nii)  Different types of Garden Huts shall be created in vari ous parks at \\nLaxmi Bai Nagar/Sarojini Nagar; \\niii)  A Fragrance Park shall be developed in Laxmi Bai Na gar; \\niv)  A new Cactus House shall be created at Lodhi Garden N ursery; \\nv)  10 Nos. acupressure paths shall be created in variou s parks of Sarojini \\nNagar, Malcha Marg, DIZ area and Jor Bagh;  \\n 9 \\n vi)  Central verge and both sides of Shanti Path (from Railw ay Museum to \\nRing Road) shall be beautified by different horticultur al features. \\n \\n9.4  A provision of `75.52 crore `75.52 crore `75.52 crore `75.52 crore has been kept for Parks & Gardens in B E \\n2014-15. \\n \\n10, 10, 10, 10,    PUBLIC HEALTH AND SANITATION PUBLIC HEALTH AND SANITATION PUBLIC HEALTH AND SANITATION PUBLIC HEALTH AND SANITATION  \\n \\n10.1 We are planning to upgrade the Solid Waste Manag ement \\n(Environmental Sanitation) in the entire NDMC area thro ugh Integrated Waste \\nManagement System an - ‘end-to-end’ solution to waste man agement, by \\ncollecting waste from doorsteps and transporting the gar bage for disposal at \\nTOWMCL Plant, Okhla in a scientific and mechanized m anner, eliminating the \\nneed for \"dhalao\"  points, which become the cause of  unhygenic conditions and \\ncitizen dissatisfaction.  Eventually, these dhalaos wi ll be converted to Public \\nToilets.  We have finalized the RFP in which the munic ipal solid waste will be \\ncollected from the doorsteps by auto tipper trucks transpo rting it by mechanical \\ncompactors to Timarpur-Okhla Waste Management Co. Ltd. (TOWMCL) Plant, \\nOkhla.  \\n \\n10.2 As part of this process, plan to construct state-of-th e-art Transfer \\nStations in NDMC area for increasing efficiency in co llection of waste,  towards \\nquick removal of garbage as well as timely availabil ity of garbage transport \\nvehicles. Removal of garbage from Transfer Stations to  terminal disposal site will \\nbe easy during nights, there being lesser traffic on the roads at that time.  The \\nprocess will be eventually on \"Just-in-time\" princi ple, to prevent garbage spillage \\nat the junctions. \\n \\n10.3 We are also planning to procure new and improve d insecticides for \\nvector control programme in NDMC area.  Besides crea ting awareness among \\nresident welfare associations, market trade association s, contractors of CPWD \\nbuildings etc. about the use of new design coolers in  which mosquito shall be \\nprevented to enter and breed,  we will be establishing  an Entomology Lab in 10 \\n which the vectors transmitting diseases shall be identi fied for timely prevention \\nof diseases. \\n \\n10.4 Micro filming/ digitization of old Birth & Death records available with \\nNDMC alongwith translation of Urdu/ Parsi Birth & Death records into English \\nlanguage is under process.  \\n \\n10.5 We have already upgraded our Public Health Labo ratory and have \\nstarted the water poison detection testing for VIP/ critic al buildings/ complexes. \\n \\n10.6 A provision of `100.09 crore `100.09 crore `100.09 crore `100.09 crore has been kept for Public Health and \\nSanitation services in BE 2014-15. \\n \\n11. 11. 11. 11.    MEDICAL SERVICES MEDICAL SERVICES MEDICAL SERVICES MEDICAL SERVICES    \\n \\n11.1 Already our medical services are rated fairly h ighly in quality, and we \\naim to make it completely patient-centric in approach &  delivery.   In \\ncontinuation of our sustained efforts to upgrade Health C are Services and to \\nachieve standard in  providing quality care to patients,  accreditation of two more \\ndispensaries - at Palika Kendra and Rohini - by NAB H (National Accreditation \\nBoard of Hospitals) has been achieved whereas certif ication/ accreditation in \\nrespect of three dispensaries at Babar Road, Lodhi Roa d and Bapu Dham is \\nexpected shortly.  The process of accreditation in res pect of all remaining \\ndispensaries is underway and will continue in the nex t financial year too. \\n \\n11.2 I am glad to inform that the new additional block  at Palika Maternity \\nHospital, Lodhi Colony, has been made functional alon gwith the renovated old \\nblock in January, 2014; with modular Operation Theatre  (OT) and a total of 65 \\nbed capacity. \\n \\n \\n 11 \\n 11.3 We plan to further strengthen the Dental Services in  NDMC area by \\nopening of four new Dental Clinics at Poly Clinic Sha heed Bhagat Singh Marg, \\nSchool Health Services Aanchal, Sarojini Nagar Matern ity Centre Complex and \\nPalika Maternity Hospital Complex, Lodhi Colony, durin g the next financial year. \\n \\n11.4 We are in the process of development of a medica l Information System \\nfor all the medical establishments/ institutions of NDM C in the next financial year \\nwhich aims to improve the efficiency in delivery of medical care through net \\nbased inter-linking of all the units; maintaining centra lized data base for \\nregistration, admission, medication and other details o f patients; inventory \\nmanagement of medical stores etc. \\n \\n11.5 A provision of `75.03 crore `75.03 crore `75.03 crore `75.03 crore has been kept for Medical Services \\nincluding Primary health care in BE 2014-15 out of wh ich `8.46 crore `8.46 crore `8.46 crore `8.46 crore are for \\ncapital expenditure. \\n \\n12. 12. 12. 12.        EDUCATION EDUCATION EDUCATION EDUCATION    \\n \\n12.1 It is proposed to set up a state-of-the-art \"Trainin g Institute for Primary \\nTeachers” in the next financial year for which buildi ng space/ infrastructure is \\nalready available at Women Technical Institute, Netaji N agar to cater to the \\ntraining needs of at least 50 teachers at a time.  The tr aining institute will be a \\nresidential, self sufficient institution with 24-hour c anteen/ kitchen facility.  The \\ntraining institute will set bench marks in teaching stand ards and will help in \\nsetting up a yardstick for measuring performance and a scertaining \\naccountability of teachers. \\n \\n12.2 It is also proposed to set up a Residential Facili ty for 50 girl students \\nupto the age of 18 years for which the building/ infra structure is already \\navailable and the entire furniture requirement will be met by purchases from \\nTihar Jail. \\n \\n 12 \\n 12.3 To enhance the sports facilities, setting up of 6  Lawn Tennis Courts, 2 \\nIndoor Courts for Badminton and Athletics; 6 Basketball  courts, and a Gym with \\ncoaches & support staff in all Sr. Sec. Schools will be taken up in the next \\nfinancial year \\n \\n12.4 A provision of `14 `14 `14 `141.44 crore 1.44 crore 1.44 crore 1.44 crore has been kept for Education Services with \\ncapital outlay of `4.04 crore `4.04 crore `4.04 crore `4.04 crore in BE 2014-15. \\n    \\n13. 13. 13. 13.    INFORMATION TECHNOLOGY INFORMATION TECHNOLOGY INFORMATION TECHNOLOGY INFORMATION TECHNOLOGY    \\n \\n13.1 Use of information technology to provide efficien t, transparent, \\naccountable and quick delivery of services is impera tive in today’s modern \\nworld, and, NDMC has long been keeping pace in this direction too. \\n \\n13.2 Online Building Plan Approval System as propose d last year has been \\nrolled out and is available in public domain.  The s ystem will speed up the \\nprocess of receipt and approval of building plans a longwith promoting \\nstandardization and transparency. \\n \\n  Similarly, online booking of Barat Ghars and GIS M apping of all visible \\nassets like trees, manholes, street lights, storm water  drains, bollards, signages, \\ntransformers etc. has also been completed and the GIS map is  now available on \\nNDMC portal for reference by all stakeholders and gen eral public. \\n \\n13.3 An NDMC 24X7 Call Centre for handling customer q ueries, complaints \\n& feedback in Hindi and English is now available, w hich not only provides \\nacknowledgements but also respective response through n et/ SMS and outbound \\ncalls.  This service has been widely successful in outreach, especially as it bases \\nitself on telephone calls as against written or emaile d grievances.  It also \\nincludes the unique system of Authority upscaling autom atically to avoid \\ndelayed responses.  \\n   13 \\n 13.4 We plan to take forward our IT/ e-Governance ini tiatives through \\nimplementation of Office Automation System (e-Office) i n the next financial year \\nbesides computerization of receipt & disposal process of RTI applications, Estate \\n& Enforcement Departments.  E-Office System will cover  e-File Module, Court \\nCase Management System (CCMS); Knowledge Management s ystem (KMS) etc., \\nand the list will only grow. \\n \\n13.5 A provision of `10.17 crore `10.17 crore `10.17 crore `10.17 crore has been kept for Information Technolog y \\ninfrastructures/ services in BE 2014-15 out of which ` 8.95 crore `8.95 crore `8.95 crore `8.95 crore are for capital \\nexpenditure. \\n \\n14. 14. 14. 14.        UPGRADATION/ RENOVATION OF MUNICIPAL MARKETS UPGRADATION/ RENOVATION OF MUNICIPAL MARKETS UPGRADATION/ RENOVATION OF MUNICIPAL MARKETS UPGRADATION/ RENOVATION OF MUNICIPAL MARKETS    \\n    \\n14.1 The project/ work to upgrade/ renovate eight muni cipal markets was \\nawarded last year.  The work has been completed in M ini Market Laxmi Bai \\nNagar, Vegetable Stall Market, Netaji Nagar and Babar Market, Lodhi Colony; \\nwhereas work is in an advance stage of completion at Suvidha Market Netaji \\nNagar, Municipal Market Babar Road.  The work at Kris hna Menon Lane Market, \\nTilak Lane Market and Municipal Market, Kaka Nagar co uld not be started as \\nshops are yet to be handed over by the shopkeepers. \\n \\n14.2 To continue our efforts to upgrade/ renovate vario us commercial \\ncomplexes and municipal markets in NDMC area, we fu rther plan to carry out \\nimprovement work in Mohan Singh Place, Mayur Bhawan,  Palika Bazar, Lok \\nNayak Bhawan and Palika Place during the next financ ial year with a special \\nfocus on upkeep & cleanliness of all major commerci al complexes and municipal \\nmarkets. \\n \\n14.3 A provision of `181.24 crore `181.24 crore `181.24 crore `181.24 crore has been kept in BE 2014-15 for Munic ipal \\nMarkets out of which `115.66 crore `115.66 crore `115.66 crore `115.66 crore are for capital expenditure. \\n \\n \\n \\n 14 \\n 15. 15. 15. 15.        NEW NEW NEW NEW PROJECTS PROJECTS PROJECTS PROJECTS    \\n    \\n15.1 We have rejuvenated our Project Planning Departm ent for \\nimplementing various projects identified on the basis  of contemporary \\ndevelopments in other cities of the Country. \\n \\n15.2 Parking space has always been a challenge for us.  Although we \\ndeveloped two  multi-level fully automated parkings, the y have not been \\ncomplete success stories possibly due to perceptions  & habits, and possibly \\nparallel urban planning in the markets is also called  for.  Now, we need to plan \\nfor decongesting major shopping destinations such as Khan Market,  Gole Market \\n& INA/ Dilli Haat Area.   We are working towards unde rground Car-corridors \\naround these markets & link them to newly identified si tes in & around these \\nmarkets while also fully tapping the available to maxi mise financial feasibility. \\n \\n15.3 In transport sector we are working towards a compr ehensive plan for \\nnon-motorised transport in NDMC as well as full automati on of existing surface \\nparking within a very short time. \\n \\n15.4   We have signed an MoU with SECI (Solar Energy  Corporation of India) \\nfor executing roof top solar energy generation module s on our major buildings.  \\nWe are also working towards a policy for incentivis ing use of solar energy by the \\ncommon citizen, as we believe it will be a success on ly if the citizen is made an \\ninterested stakeholder in this, and thereby create a mas s movement of energy \\nsaving and self sustainable power production. \\n \\n15.5 We aim to further reduce upto 2 MW of energy from  streetlights \\nthrough progressive, replacement of uneconomical ligh t sources by use of LED & \\nother conservation measures. \\n \\n15.6   This year we also plan to introduce a CCTV bas ed system to monitor \\nthe entire public space in NDMC to assist and secure th e senior citizens, women \\n& children through general vigil and not just crime or  accidents control. \\n 15 \\n 15.7 We are working towards making NDMC a fully WiFi  area.  We have \\nfinalised the design for common streetlight poles with LED lights, Security \\nCameras and WiFi antennas to save costs. \\n \\n15.8 Recently we experimented with placing a coffee s hop in one of our \\nsubways.  It has been a successful venture in terms of providing footfall & \\nsecurity in the subways. \\n \\n15.9 Having learnt from our experiences while renova ting Connaught Place, \\nwe plan to redevelop other four important markets i.e., Khan Market, Gole \\nMarket, Sarojini Nagar Market & INA/ Dilli Haat.  Alon gwith creation of \\nunderground traffic corridors, pedestrianisation, comm on A.C. units & LED will be \\nthe important features of these multi-pronged redevelopm ent projects. \\n \\n15.10 A provision of `10 crore `10 crore `10 crore `10 crore for New Projects has been kept in Budget \\nEstimate 2014-15. \\n \\n16. 16. 16. 16.        FIRE SAFETY FIRE SAFETY FIRE SAFETY FIRE SAFETY    \\n    \\n16.1 Fire Suppression Systems have already been prov ided in the eight \\nremaining Electric Sub-Stations during the current fina ncial year.  Now the total \\nnumber of Electric Sub Stations equipped with Fire Supp ression System has \\nincreased to 23.  We plan to provide Fire suppression  Systems in additional \\ntwenty one of Electric Sub-Stations during the next financ ial year. \\n \\n16.2 The work of converting the Conventional System in to Addressable/ \\nSemi-Addressable Micro Processor Based Fire Alarm a nd Detection System in six \\nadditional buildings will be completed by March, 201 4. \\n \\n  Addressable System existing in NDCC Phase-II; Tal katora Stadium \\n(including Facility Block) and Shivaji Stadium will b e upgraded by providing the \\nlatest software based technology for speedy detection of  any kind of fire. \\n 16 \\n 16.3 A fairly ambitious programme is of establishing  Wireless Addressable \\nFire Alarm Detection and Communication System with TCP / IP based Centralized \\nMonitoring Station (CMS).  In the first phase, 20 munici pal buildings will be taken \\nup for integration with CMS besides installation of Smo ke Management System in \\nPalika Parking, Talkatora Stadium, Lok Nayak Bhawan, Palika Bhawan, Chander \\nLok Building, Mayur Bhawan and Palika Kendra during  the next financial year.  \\nThis involves prompt electronic identification of thre at and identification of the \\nexact location, reducing response time by hours there by saving resources from \\ndamage. \\n \\n16.4 A provision of `11.64 crore `11.64 crore `11.64 crore `11.64 crore has been kept for Fire Services and Dis aster \\nManagement in BE 2014-15. \\n    \\n17. 17. 17. 17.        PUBLIC GRIEVANCES REDRESSAL & CONSUMER FACILITATIO N PUBLIC GRIEVANCES REDRESSAL & CONSUMER FACILITATIONPUBLIC GRIEVANCES REDRESSAL & CONSUMER FACILITATIONPUBLIC GRIEVANCES REDRESSAL & CONSUMER FACILITATION     \\n    \\n17.1 Apart from the online call centre, as mentioned i n Para 13.3 above, \\nconstruction of a centralised Service Centre Complex a t Fire Brigade Lane for \\nattending to the complaints of citizens pertaining to civi c amenities of Bengali \\nMarket and its surrounding areas has also been started,  and will be completed in \\nthe next financial year.   \\n \\n17.2 We have recently opened a new Collection Centre a t Moti Bagh behind \\nCharak Palika Hospital to facilitate payment of electric ity & water dues by the \\nconsummers of that area in the near vicinity of their h omes. \\n \\n17.3 A scheme for settlement of arrears of electricity & water dues was \\nlaunched in the current financial year and around 389  disputes were settled. \\n \\n17.4 We have also made arrangements for payment of in terest on security \\ndeposit for electricity connections to the consumers w. e.f. Financial Year  \\n2014-15  which henceforth will be credited in their f irst bill in April every year.   \\n \\n 17 \\n 17.5  Major steps have been taken towards facilitating  transparency and \\ncitizen interfacing, possibly the first time  in any Municipal Body in the Country, \\nis the MoU signed with Transparency International, und er the scheme of the \\nCentral Vigilance Commission whereby every contract ab ove `50 lakhs shall be, \\nbefore award, pre-scrutinised by Independent, CVC app ointed monitors.  Furher, \\nall works above `1.00 lakh value, with their financia l & physical progress, shall \\nbe uploaded on our website, so citizens can be our co-participants and monitors, \\nadmirers and critics on merits and facts. \\n    \\n18. 18. 18. 18.        EMPLOYEES\\' WELFARE EMPLOYEES\\' WELFARE EMPLOYEES\\' WELFARE EMPLOYEES\\' WELFARE    \\n    \\n18.1 So far, 88 numbers of flats in Municipal Housin g Project at Bapu Dham \\nunder Phase-I have been completed and put to use in Au gust 2013.  Work in \\nrespect of 92 quarters in Phase II has been complete d and being handed over for \\nallotment to NDMC employees.  Work for 116 numbers of  flats in Phase-III of the \\nsaid project is in progress and will be completed in  the next financial year. \\n \\n18.2 Our project/ scheme for construction of 136 type- II flats at Sector-VII, \\nSaket has been cleared by LOSC of South Delhi Municip al Corporation, Delhi Fire \\nService and DUAC, and the project shall be taken up in  the next financial year \\nafter approval of the scheme by SDMC as per amended d ensity norms. \\n \\n18.3 Apart from our efforts for creating additional hou sing facilities for our \\nemployees, we have taken up improvement/ renovation of  existing municipal \\nhousing complexes for completion during the next fin ancial year at  \\n \\n(i)  Lal Bahadur Sadan, \\n(ii)  Flats in 20-21 Block, Peshwa Road, Gole Market, \\n(iii)  Palika Niwas, \\n(iv)  Palika Dham, \\n(v)  Palika Awas, \\n(vi)  Palika Gram, and,  \\n(vii)  Staff Quarters at Rohini. \\n 18 \\n 18.4 Payment of wages/ remuneration to daily-wage wor kers and staff \\ndeployed on contract is now being paid directly into t heir bank accounts through \\nECS. \\n    \\n18.5 A provision of `3.43 crores `3.43 crores `3.43 crores `3.43 crores in BE 2014-15 has been kept for ongoing  \\nstaff welfare activities apart from the Medical Health S cheme for pensioners/ \\nemployees of NDMC.    \\n    \\n    \\n19. 19. 19. 19.        SOCIAL WELFARE SCHEMES/PROJECTS SOCIAL WELFARE SCHEMES/PROJECTS SOCIAL WELFARE SCHEMES/PROJECTS SOCIAL WELFARE SCHEMES/PROJECTS    \\n    \\n19.1 The construction of 60 bedded old age home at Ka li Bari Marg, and, \\nconstruction of 240 dwelling units for economically we aker sections (EWS) at \\nBakkarwala has commenced after award of work in the c urrent financial year and \\nwill be completed in the next eighteen months.  We wou ld be starting more old \\nage homes with upgraded services in key locations, fo r which demand for land \\nwould be made. \\n \\n19.2 The construction work for four ATM sites at Laxm i Bai Nagar Market, \\nR.K. Ashram Marg, Kaka Nagar Market, and Netaji Nagar  Market has already \\nbeen completed. \\n \\n19.3 We have taken up various improvement works in ou r three hostels for \\nworking women, namely, Swati, Aaradhna and Aakanksha , in the next financial \\nyear.  In keeping with our commitment making NDMC tota lly safe especially for \\nwomen, we plan to construct or convert more premises fo r working women\\'s \\nhostels. \\n    \\n20. 20. 20. 20.        REVENUE PROPOSALS REVENUE PROPOSALS REVENUE PROPOSALS REVENUE PROPOSALS        \\n20.1 20.1 20.1 20.1    Property Tax Property Tax Property Tax Property Tax    \\n    \\n  The Actual Property Tax collection during 2012-13 s tands at `382.61 `382.61 `382.61 `382.61 \\ncrore against the target of `300 crore `300 crore `300 crore `300 crore in RE 2012-13.  This is the result of an \\noutstanding effort put in by the officers and staff of Ta x Department in the 19 \\n recovery of municipal dues.  The projections for RE 2013-14 and BE 2014-15 for \\nProperty Tax have been kept at `355.00 crore `355.00 crore `355.00 crore `355.00 crore each as against BE 2013-14 of \\n`300 crore.  `300 crore.  `300 crore.  `300 crore.  However, it is quite obvious that this tar get too shall be achieved, \\nand I am confident that with time we should learn to upsc ale our targets too. \\n \\n The Council has already resolved that there shall be no increase in Property \\nTax rates in the next  year. \\n    \\n20.2 20.2 20.2 20.2    LICENCE FEE  FROM MUNICIPAL PROPERTIES LICENCE FEE  FROM MUNICIPAL PROPERTIES LICENCE FEE  FROM MUNICIPAL PROPERTIES LICENCE FEE  FROM MUNICIPAL PROPERTIES    \\n    \\n        Recently, after November 2011,  70 vacant units (shop s) have been \\nput on public auction through open bidding to fetch maxi mum municipal \\nrevenue.  These shops are located at AIIMS, Yashwant Place, Palika Bhawan, \\nPalika Bazar, Mohan Singh Place, etc.  The bidding process was transparently \\nadvertised in the newspapers as well as on the NDMC we bsite for maximum \\nparticipation by the general public. \\n \\n The department has introduced some One-Time Reforms  in the existing \\nprocedure for renewal of licences of shops/ commerc ial establishments to \\nminimise  the present pendency and to further make the p rocess objective, \\ntransparent and accessible, these renewals would invar iably be done \"online\" in \\nthe coming financial year. \\n    \\n  The projections of licence fee from NDMC propertie s in RE 2013-14 are  \\n`399.55 `399.55 `399.55 `399.55 crore crore crore crore as against Actuals 2012-13 of `237.62 crore `237.62 crore `237.62 crore `237.62 crore, and, the projections \\nin BE 2014-15 are ` ` `` 429.96 429.96 429.96 429.96 crore. crore. crore. crore.    \\n \\n20.3 20.3 20.3 20.3    RECEIPTS FROM ELECTRICITY DISTRIBUTION RECEIPTS FROM ELECTRICITY DISTRIBUTION RECEIPTS FROM ELECTRICITY DISTRIBUTION RECEIPTS FROM ELECTRICITY DISTRIBUTION    \\n \\n  ‘Electricity Distribution/ Supply’ function of the Coun cil has traditionally \\nbeen revenue surplus.  However, since the advent of n ew regime of regulations, \\nPower Purchase Agreements and other obligations impose d by DERC, the Council \\nhas been incurring regular losses during the last thre e years on Electricity \\nfunction especially on account of sale of short time su rplus energy.  we are in 20 \\n the process of drawing upon some smart trading options to reduce our losses on \\nthis count and to further streamline the functioning and accounting aspects, we \\nwill be creating a separate Electricity Cell.  \\n \\n   The  Council has also accepted that 50% targeted subs idy would be \\nprovided on tariff slabs issued by DERC for the finan cial year 2013-14 to all \\ndomestic consumers consuming upto 400 units per month for the period 1st \\nJanuary, 2014 to 31st March, 2014, subject to acceptan ce by Power Department, \\nGovernment of NCT of Delhi.  Further, no subsidy shal l be provided to domestic \\nconsumers consuming more than 400 units even on slabs  upto 400 units. \\n \\n  The total revenue receipts from the Electricity distribu tion services \\nhave been projected in RE 2013-14 at `943.26 `943.26 `943.26 `943.26 crore crore crore crore as against BE 2013-14 of \\n`872.59 `872.59 `872.59 `872.59 crore crore crore crore.  The projections for BE 2014-15 are `978.31 c rore `978.31 crore `978.31 crore `978.31 crore. \\n \\n20.4 20.4 20.4 20.4    RECEIPTS FRO RECEIPTS FRO RECEIPTS FRO RECEIPTS FROM WATER SUPPLY M WATER SUPPLY M WATER SUPPLY M WATER SUPPLY    \\n    \\n  Considering  into the long pending demand of the ass ociations of \\ndhobies that the commercial tariff, which was made appl icable to Dhobi Ghats \\nw.e.f. April 2005,  was not tenable in view of the fa ct that dhobies belong to the \\nweaker sections of society and this is the only commer cial activity they engage \\nin.  In September 2013 a new category of Water Tarif f was created for the 16 \\nDhobi  Ghats situated in NDMC area.  The new water tarif f for dhobi ghats is 2.5 \\ntimes of maximum domestic rate as prevailing from time to time. \\n \\n  The domestic consumers in NDMC area, using water u pto 20 Kilolitre \\nper month would be exempted from payment of water bill ,  subject to \\nacceptance by Government of NCT of Delhi.  However, c onsumption beyond  \\n20 KL per month would be billed as per the prevailing  tariff for full water \\nconsumption. \\n \\n  As against the Actual receipts of ` ` `` 101.71 101.71 101.71 101.71 crore crore crore crore in 2012-13, the \\nprojected revenue receipts from Water Supply services in RE 2013-14 are `96.86 `96.86 `96.86 `96.86 \\ncrore crore crore crore whereas for BE 2014-15 it has been kept as `96. 91 `96.91 `96.91 `96.91 crore. crore. crore. crore.    21 \\n     \\n21.  Certain recent developments which bear mention are  the Council\\'s \\napproval to the Muster Roll employees\\' service issues which shall be \\nimplemented in the coming months, and the amendment of the Liberalised \\nMedical Treatment Scheme.  The exact budgetary implic ations will be worked \\nout soon, but these steps are, more significantly, issu es under examination of \\nfeasibility for quite sometime and have almost entirel y been resolved. \\n \\n22.  I would like to thank Hon\\'ble Chief Minister and  the Hon\\'ble Member of \\nParliament being Members of this Council, the Hon\\'ble Vice Chairperson, Hon\\'ble \\nMLA and other Members of the Council, as also, the for mer Chief Minister and \\nthe ex-MLA for their constructive support and invaluable  suggestions from time \\nto time.  I would also like to place on record my grati tude for the guidance and \\nsupport received from Hon\\'ble Lt. Governor, Hon\\'ble C hief Minister, the Ministry \\nof Home Affairs and the Ministry of Urban Developmen t, Government of India. \\n \\nThank you very much.  \\n \\nJai Hind.    \\n    \\n    \\n    \\n    \\n    \\n    \\n    \\n    \\n    \\n      \\n \\n    '"
            ],
            "application/vnd.google.colaboratory.intrinsic+json": {
              "type": "string"
            }
          },
          "metadata": {},
          "execution_count": 9
        }
      ]
    },
    {
      "cell_type": "markdown",
      "metadata": {
        "id": "5S0GgIQs4Rps"
      },
      "source": [
        "Initialize the connection to your database:\n",
        "\n",
        "_(do not worry if you see a few warnings, it's just that the drivers are chatty about negotiating protocol versions with the DB.)_"
      ]
    },
    {
      "cell_type": "code",
      "execution_count": 18,
      "metadata": {
        "id": "zFBR5HnZSPmK",
        "colab": {
          "base_uri": "https://localhost:8080/"
        },
        "outputId": "1418d3b1-db91-4410-a232-a422c008ef6c"
      },
      "outputs": [
        {
          "output_type": "stream",
          "name": "stderr",
          "text": [
            "WARNING:cassandra.cluster:Downgrading core protocol version from 66 to 65 for ccb8b89c-bcd9-4d37-b522-efb8ee5ac989-us-east1.db.astra.datastax.com:29042:3b8afe0a-9b27-48ef-af55-d95b0aef8e45. To avoid this, it is best practice to explicitly set Cluster(protocol_version) to the version supported by your cluster. http://datastax.github.io/python-driver/api/cassandra/cluster.html#cassandra.cluster.Cluster.protocol_version\n",
            "WARNING:cassandra.cluster:Downgrading core protocol version from 65 to 5 for ccb8b89c-bcd9-4d37-b522-efb8ee5ac989-us-east1.db.astra.datastax.com:29042:3b8afe0a-9b27-48ef-af55-d95b0aef8e45. To avoid this, it is best practice to explicitly set Cluster(protocol_version) to the version supported by your cluster. http://datastax.github.io/python-driver/api/cassandra/cluster.html#cassandra.cluster.Cluster.protocol_version\n",
            "ERROR:cassandra.connection:Closing connection <LibevConnection(134549299081184) ccb8b89c-bcd9-4d37-b522-efb8ee5ac989-us-east1.db.astra.datastax.com:29042:3b8afe0a-9b27-48ef-af55-d95b0aef8e45> due to protocol error: Error from server: code=000a [Protocol error] message=\"Beta version of the protocol used (5/v5-beta), but USE_BETA flag is unset\"\n",
            "WARNING:cassandra.cluster:Downgrading core protocol version from 5 to 4 for ccb8b89c-bcd9-4d37-b522-efb8ee5ac989-us-east1.db.astra.datastax.com:29042:3b8afe0a-9b27-48ef-af55-d95b0aef8e45. To avoid this, it is best practice to explicitly set Cluster(protocol_version) to the version supported by your cluster. http://datastax.github.io/python-driver/api/cassandra/cluster.html#cassandra.cluster.Cluster.protocol_version\n"
          ]
        }
      ],
      "source": [
        "cassio.init(token=ASTRA_DB_APPLICATION_TOKEN, database_id=ASTRA_DB_ID)"
      ]
    },
    {
      "cell_type": "markdown",
      "metadata": {
        "id": "ex7NxZYb4Rps"
      },
      "source": [
        "Create the LangChain embedding and LLM objects for later usage:"
      ]
    },
    {
      "cell_type": "code",
      "execution_count": 19,
      "metadata": {
        "id": "TavS0AK2SLrL"
      },
      "outputs": [],
      "source": [
        "llm = OpenAI(openai_api_key=OPENAI_API_KEY)\n",
        "embedding = OpenAIEmbeddings(openai_api_key=OPENAI_API_KEY)"
      ]
    },
    {
      "cell_type": "markdown",
      "metadata": {
        "id": "9HMMx5Pm4Rpt"
      },
      "source": [
        "Create your LangChain vector store ... backed by Astra DB!"
      ]
    },
    {
      "cell_type": "code",
      "execution_count": 20,
      "metadata": {
        "id": "bg9VAk4USQvU",
        "colab": {
          "base_uri": "https://localhost:8080/",
          "height": 391
        },
        "outputId": "ba03f5cd-608d-4cb1-a98b-98c4e86a5e01"
      },
      "outputs": [
        {
          "output_type": "error",
          "ename": "RateLimitError",
          "evalue": "Error code: 429 - {'error': {'message': 'You exceeded your current quota, please check your plan and billing details. For more information on this error, read the docs: https://platform.openai.com/docs/guides/error-codes/api-errors.', 'type': 'insufficient_quota', 'param': None, 'code': 'insufficient_quota'}}",
          "traceback": [
            "\u001b[0;31m---------------------------------------------------------------------------\u001b[0m",
            "\u001b[0;31mRateLimitError\u001b[0m                            Traceback (most recent call last)",
            "\u001b[0;32m<ipython-input-20-80309fedc918>\u001b[0m in \u001b[0;36m<cell line: 1>\u001b[0;34m()\u001b[0m\n\u001b[0;32m----> 1\u001b[0;31m astra_vector_store = Cassandra(\n\u001b[0m\u001b[1;32m      2\u001b[0m     \u001b[0membedding\u001b[0m\u001b[0;34m=\u001b[0m\u001b[0membedding\u001b[0m\u001b[0;34m,\u001b[0m\u001b[0;34m\u001b[0m\u001b[0;34m\u001b[0m\u001b[0m\n\u001b[1;32m      3\u001b[0m     \u001b[0mtable_name\u001b[0m\u001b[0;34m=\u001b[0m\u001b[0;34m\"qa_mini_demo\"\u001b[0m\u001b[0;34m,\u001b[0m\u001b[0;34m\u001b[0m\u001b[0;34m\u001b[0m\u001b[0m\n\u001b[1;32m      4\u001b[0m     \u001b[0msession\u001b[0m\u001b[0;34m=\u001b[0m\u001b[0;32mNone\u001b[0m\u001b[0;34m,\u001b[0m\u001b[0;34m\u001b[0m\u001b[0;34m\u001b[0m\u001b[0m\n\u001b[1;32m      5\u001b[0m     \u001b[0mkeyspace\u001b[0m\u001b[0;34m=\u001b[0m\u001b[0;32mNone\u001b[0m\u001b[0;34m,\u001b[0m\u001b[0;34m\u001b[0m\u001b[0;34m\u001b[0m\u001b[0m\n",
            "\u001b[0;32m/usr/local/lib/python3.10/dist-packages/langchain_community/vectorstores/cassandra.py\u001b[0m in \u001b[0;36m__init__\u001b[0;34m(self, embedding, session, keyspace, table_name, ttl_seconds, body_index_options, setup_mode, metadata_indexing)\u001b[0m\n\u001b[1;32m    131\u001b[0m             \u001b[0membedding_dimension\u001b[0m \u001b[0;34m=\u001b[0m \u001b[0mself\u001b[0m\u001b[0;34m.\u001b[0m\u001b[0m_aget_embedding_dimension\u001b[0m\u001b[0;34m(\u001b[0m\u001b[0;34m)\u001b[0m\u001b[0;34m\u001b[0m\u001b[0;34m\u001b[0m\u001b[0m\n\u001b[1;32m    132\u001b[0m         \u001b[0;32melif\u001b[0m \u001b[0msetup_mode\u001b[0m \u001b[0;34m==\u001b[0m \u001b[0mSetupMode\u001b[0m\u001b[0;34m.\u001b[0m\u001b[0mSYNC\u001b[0m\u001b[0;34m:\u001b[0m\u001b[0;34m\u001b[0m\u001b[0;34m\u001b[0m\u001b[0m\n\u001b[0;32m--> 133\u001b[0;31m             \u001b[0membedding_dimension\u001b[0m \u001b[0;34m=\u001b[0m \u001b[0mself\u001b[0m\u001b[0;34m.\u001b[0m\u001b[0m_get_embedding_dimension\u001b[0m\u001b[0;34m(\u001b[0m\u001b[0;34m)\u001b[0m\u001b[0;34m\u001b[0m\u001b[0;34m\u001b[0m\u001b[0m\n\u001b[0m\u001b[1;32m    134\u001b[0m \u001b[0;34m\u001b[0m\u001b[0m\n\u001b[1;32m    135\u001b[0m         self.table = MetadataVectorCassandraTable(\n",
            "\u001b[0;32m/usr/local/lib/python3.10/dist-packages/langchain_community/vectorstores/cassandra.py\u001b[0m in \u001b[0;36m_get_embedding_dimension\u001b[0;34m(self)\u001b[0m\n\u001b[1;32m     39\u001b[0m         \u001b[0;32mif\u001b[0m \u001b[0mself\u001b[0m\u001b[0;34m.\u001b[0m\u001b[0m_embedding_dimension\u001b[0m \u001b[0;32mis\u001b[0m \u001b[0;32mNone\u001b[0m\u001b[0;34m:\u001b[0m\u001b[0;34m\u001b[0m\u001b[0;34m\u001b[0m\u001b[0m\n\u001b[1;32m     40\u001b[0m             self._embedding_dimension = len(\n\u001b[0;32m---> 41\u001b[0;31m                 \u001b[0mself\u001b[0m\u001b[0;34m.\u001b[0m\u001b[0membedding\u001b[0m\u001b[0;34m.\u001b[0m\u001b[0membed_query\u001b[0m\u001b[0;34m(\u001b[0m\u001b[0;34m\"This is a sample sentence.\"\u001b[0m\u001b[0;34m)\u001b[0m\u001b[0;34m\u001b[0m\u001b[0;34m\u001b[0m\u001b[0m\n\u001b[0m\u001b[1;32m     42\u001b[0m             )\n\u001b[1;32m     43\u001b[0m         \u001b[0;32mreturn\u001b[0m \u001b[0mself\u001b[0m\u001b[0;34m.\u001b[0m\u001b[0m_embedding_dimension\u001b[0m\u001b[0;34m\u001b[0m\u001b[0;34m\u001b[0m\u001b[0m\n",
            "\u001b[0;32m/usr/local/lib/python3.10/dist-packages/langchain_community/embeddings/openai.py\u001b[0m in \u001b[0;36membed_query\u001b[0;34m(self, text)\u001b[0m\n\u001b[1;32m    695\u001b[0m             \u001b[0mEmbedding\u001b[0m \u001b[0;32mfor\u001b[0m \u001b[0mthe\u001b[0m \u001b[0mtext\u001b[0m\u001b[0;34m.\u001b[0m\u001b[0;34m\u001b[0m\u001b[0;34m\u001b[0m\u001b[0m\n\u001b[1;32m    696\u001b[0m         \"\"\"\n\u001b[0;32m--> 697\u001b[0;31m         \u001b[0;32mreturn\u001b[0m \u001b[0mself\u001b[0m\u001b[0;34m.\u001b[0m\u001b[0membed_documents\u001b[0m\u001b[0;34m(\u001b[0m\u001b[0;34m[\u001b[0m\u001b[0mtext\u001b[0m\u001b[0;34m]\u001b[0m\u001b[0;34m)\u001b[0m\u001b[0;34m[\u001b[0m\u001b[0;36m0\u001b[0m\u001b[0;34m]\u001b[0m\u001b[0;34m\u001b[0m\u001b[0;34m\u001b[0m\u001b[0m\n\u001b[0m\u001b[1;32m    698\u001b[0m \u001b[0;34m\u001b[0m\u001b[0m\n\u001b[1;32m    699\u001b[0m     \u001b[0;32masync\u001b[0m \u001b[0;32mdef\u001b[0m \u001b[0maembed_query\u001b[0m\u001b[0;34m(\u001b[0m\u001b[0mself\u001b[0m\u001b[0;34m,\u001b[0m \u001b[0mtext\u001b[0m\u001b[0;34m:\u001b[0m \u001b[0mstr\u001b[0m\u001b[0;34m)\u001b[0m \u001b[0;34m->\u001b[0m \u001b[0mList\u001b[0m\u001b[0;34m[\u001b[0m\u001b[0mfloat\u001b[0m\u001b[0;34m]\u001b[0m\u001b[0;34m:\u001b[0m\u001b[0;34m\u001b[0m\u001b[0;34m\u001b[0m\u001b[0m\n",
            "\u001b[0;32m/usr/local/lib/python3.10/dist-packages/langchain_community/embeddings/openai.py\u001b[0m in \u001b[0;36membed_documents\u001b[0;34m(self, texts, chunk_size)\u001b[0m\n\u001b[1;32m    666\u001b[0m         \u001b[0;31m#       than the maximum context and use length-safe embedding function.\u001b[0m\u001b[0;34m\u001b[0m\u001b[0;34m\u001b[0m\u001b[0m\n\u001b[1;32m    667\u001b[0m         \u001b[0mengine\u001b[0m \u001b[0;34m=\u001b[0m \u001b[0mcast\u001b[0m\u001b[0;34m(\u001b[0m\u001b[0mstr\u001b[0m\u001b[0;34m,\u001b[0m \u001b[0mself\u001b[0m\u001b[0;34m.\u001b[0m\u001b[0mdeployment\u001b[0m\u001b[0;34m)\u001b[0m\u001b[0;34m\u001b[0m\u001b[0;34m\u001b[0m\u001b[0m\n\u001b[0;32m--> 668\u001b[0;31m         \u001b[0;32mreturn\u001b[0m \u001b[0mself\u001b[0m\u001b[0;34m.\u001b[0m\u001b[0m_get_len_safe_embeddings\u001b[0m\u001b[0;34m(\u001b[0m\u001b[0mtexts\u001b[0m\u001b[0;34m,\u001b[0m \u001b[0mengine\u001b[0m\u001b[0;34m=\u001b[0m\u001b[0mengine\u001b[0m\u001b[0;34m)\u001b[0m\u001b[0;34m\u001b[0m\u001b[0;34m\u001b[0m\u001b[0m\n\u001b[0m\u001b[1;32m    669\u001b[0m \u001b[0;34m\u001b[0m\u001b[0m\n\u001b[1;32m    670\u001b[0m     async def aembed_documents(\n",
            "\u001b[0;32m/usr/local/lib/python3.10/dist-packages/langchain_community/embeddings/openai.py\u001b[0m in \u001b[0;36m_get_len_safe_embeddings\u001b[0;34m(self, texts, engine, chunk_size)\u001b[0m\n\u001b[1;32m    492\u001b[0m         \u001b[0mbatched_embeddings\u001b[0m\u001b[0;34m:\u001b[0m \u001b[0mList\u001b[0m\u001b[0;34m[\u001b[0m\u001b[0mList\u001b[0m\u001b[0;34m[\u001b[0m\u001b[0mfloat\u001b[0m\u001b[0;34m]\u001b[0m\u001b[0;34m]\u001b[0m \u001b[0;34m=\u001b[0m \u001b[0;34m[\u001b[0m\u001b[0;34m]\u001b[0m\u001b[0;34m\u001b[0m\u001b[0;34m\u001b[0m\u001b[0m\n\u001b[1;32m    493\u001b[0m         \u001b[0;32mfor\u001b[0m \u001b[0mi\u001b[0m \u001b[0;32min\u001b[0m \u001b[0m_iter\u001b[0m\u001b[0;34m:\u001b[0m\u001b[0;34m\u001b[0m\u001b[0;34m\u001b[0m\u001b[0m\n\u001b[0;32m--> 494\u001b[0;31m             response = embed_with_retry(\n\u001b[0m\u001b[1;32m    495\u001b[0m                 \u001b[0mself\u001b[0m\u001b[0;34m,\u001b[0m\u001b[0;34m\u001b[0m\u001b[0;34m\u001b[0m\u001b[0m\n\u001b[1;32m    496\u001b[0m                 \u001b[0minput\u001b[0m\u001b[0;34m=\u001b[0m\u001b[0mtokens\u001b[0m\u001b[0;34m[\u001b[0m\u001b[0mi\u001b[0m \u001b[0;34m:\u001b[0m \u001b[0mi\u001b[0m \u001b[0;34m+\u001b[0m \u001b[0m_chunk_size\u001b[0m\u001b[0;34m]\u001b[0m\u001b[0;34m,\u001b[0m\u001b[0;34m\u001b[0m\u001b[0;34m\u001b[0m\u001b[0m\n",
            "\u001b[0;32m/usr/local/lib/python3.10/dist-packages/langchain_community/embeddings/openai.py\u001b[0m in \u001b[0;36membed_with_retry\u001b[0;34m(embeddings, **kwargs)\u001b[0m\n\u001b[1;32m    114\u001b[0m     \u001b[0;34m\"\"\"Use tenacity to retry the embedding call.\"\"\"\u001b[0m\u001b[0;34m\u001b[0m\u001b[0;34m\u001b[0m\u001b[0m\n\u001b[1;32m    115\u001b[0m     \u001b[0;32mif\u001b[0m \u001b[0mis_openai_v1\u001b[0m\u001b[0;34m(\u001b[0m\u001b[0;34m)\u001b[0m\u001b[0;34m:\u001b[0m\u001b[0;34m\u001b[0m\u001b[0;34m\u001b[0m\u001b[0m\n\u001b[0;32m--> 116\u001b[0;31m         \u001b[0;32mreturn\u001b[0m \u001b[0membeddings\u001b[0m\u001b[0;34m.\u001b[0m\u001b[0mclient\u001b[0m\u001b[0;34m.\u001b[0m\u001b[0mcreate\u001b[0m\u001b[0;34m(\u001b[0m\u001b[0;34m**\u001b[0m\u001b[0mkwargs\u001b[0m\u001b[0;34m)\u001b[0m\u001b[0;34m\u001b[0m\u001b[0;34m\u001b[0m\u001b[0m\n\u001b[0m\u001b[1;32m    117\u001b[0m     \u001b[0mretry_decorator\u001b[0m \u001b[0;34m=\u001b[0m \u001b[0m_create_retry_decorator\u001b[0m\u001b[0;34m(\u001b[0m\u001b[0membeddings\u001b[0m\u001b[0;34m)\u001b[0m\u001b[0;34m\u001b[0m\u001b[0;34m\u001b[0m\u001b[0m\n\u001b[1;32m    118\u001b[0m \u001b[0;34m\u001b[0m\u001b[0m\n",
            "\u001b[0;32m/usr/local/lib/python3.10/dist-packages/openai/resources/embeddings.py\u001b[0m in \u001b[0;36mcreate\u001b[0;34m(self, input, model, dimensions, encoding_format, user, extra_headers, extra_query, extra_body, timeout)\u001b[0m\n\u001b[1;32m    112\u001b[0m             \u001b[0;32mreturn\u001b[0m \u001b[0mobj\u001b[0m\u001b[0;34m\u001b[0m\u001b[0;34m\u001b[0m\u001b[0m\n\u001b[1;32m    113\u001b[0m \u001b[0;34m\u001b[0m\u001b[0m\n\u001b[0;32m--> 114\u001b[0;31m         return self._post(\n\u001b[0m\u001b[1;32m    115\u001b[0m             \u001b[0;34m\"/embeddings\"\u001b[0m\u001b[0;34m,\u001b[0m\u001b[0;34m\u001b[0m\u001b[0;34m\u001b[0m\u001b[0m\n\u001b[1;32m    116\u001b[0m             \u001b[0mbody\u001b[0m\u001b[0;34m=\u001b[0m\u001b[0mmaybe_transform\u001b[0m\u001b[0;34m(\u001b[0m\u001b[0mparams\u001b[0m\u001b[0;34m,\u001b[0m \u001b[0membedding_create_params\u001b[0m\u001b[0;34m.\u001b[0m\u001b[0mEmbeddingCreateParams\u001b[0m\u001b[0;34m)\u001b[0m\u001b[0;34m,\u001b[0m\u001b[0;34m\u001b[0m\u001b[0;34m\u001b[0m\u001b[0m\n",
            "\u001b[0;32m/usr/local/lib/python3.10/dist-packages/openai/_base_client.py\u001b[0m in \u001b[0;36mpost\u001b[0;34m(self, path, cast_to, body, options, files, stream, stream_cls)\u001b[0m\n\u001b[1;32m   1238\u001b[0m             \u001b[0mmethod\u001b[0m\u001b[0;34m=\u001b[0m\u001b[0;34m\"post\"\u001b[0m\u001b[0;34m,\u001b[0m \u001b[0murl\u001b[0m\u001b[0;34m=\u001b[0m\u001b[0mpath\u001b[0m\u001b[0;34m,\u001b[0m \u001b[0mjson_data\u001b[0m\u001b[0;34m=\u001b[0m\u001b[0mbody\u001b[0m\u001b[0;34m,\u001b[0m \u001b[0mfiles\u001b[0m\u001b[0;34m=\u001b[0m\u001b[0mto_httpx_files\u001b[0m\u001b[0;34m(\u001b[0m\u001b[0mfiles\u001b[0m\u001b[0;34m)\u001b[0m\u001b[0;34m,\u001b[0m \u001b[0;34m**\u001b[0m\u001b[0moptions\u001b[0m\u001b[0;34m\u001b[0m\u001b[0;34m\u001b[0m\u001b[0m\n\u001b[1;32m   1239\u001b[0m         )\n\u001b[0;32m-> 1240\u001b[0;31m         \u001b[0;32mreturn\u001b[0m \u001b[0mcast\u001b[0m\u001b[0;34m(\u001b[0m\u001b[0mResponseT\u001b[0m\u001b[0;34m,\u001b[0m \u001b[0mself\u001b[0m\u001b[0;34m.\u001b[0m\u001b[0mrequest\u001b[0m\u001b[0;34m(\u001b[0m\u001b[0mcast_to\u001b[0m\u001b[0;34m,\u001b[0m \u001b[0mopts\u001b[0m\u001b[0;34m,\u001b[0m \u001b[0mstream\u001b[0m\u001b[0;34m=\u001b[0m\u001b[0mstream\u001b[0m\u001b[0;34m,\u001b[0m \u001b[0mstream_cls\u001b[0m\u001b[0;34m=\u001b[0m\u001b[0mstream_cls\u001b[0m\u001b[0;34m)\u001b[0m\u001b[0;34m)\u001b[0m\u001b[0;34m\u001b[0m\u001b[0;34m\u001b[0m\u001b[0m\n\u001b[0m\u001b[1;32m   1241\u001b[0m \u001b[0;34m\u001b[0m\u001b[0m\n\u001b[1;32m   1242\u001b[0m     def patch(\n",
            "\u001b[0;32m/usr/local/lib/python3.10/dist-packages/openai/_base_client.py\u001b[0m in \u001b[0;36mrequest\u001b[0;34m(self, cast_to, options, remaining_retries, stream, stream_cls)\u001b[0m\n\u001b[1;32m    919\u001b[0m         \u001b[0mstream_cls\u001b[0m\u001b[0;34m:\u001b[0m \u001b[0mtype\u001b[0m\u001b[0;34m[\u001b[0m\u001b[0m_StreamT\u001b[0m\u001b[0;34m]\u001b[0m \u001b[0;34m|\u001b[0m \u001b[0;32mNone\u001b[0m \u001b[0;34m=\u001b[0m \u001b[0;32mNone\u001b[0m\u001b[0;34m,\u001b[0m\u001b[0;34m\u001b[0m\u001b[0;34m\u001b[0m\u001b[0m\n\u001b[1;32m    920\u001b[0m     ) -> ResponseT | _StreamT:\n\u001b[0;32m--> 921\u001b[0;31m         return self._request(\n\u001b[0m\u001b[1;32m    922\u001b[0m             \u001b[0mcast_to\u001b[0m\u001b[0;34m=\u001b[0m\u001b[0mcast_to\u001b[0m\u001b[0;34m,\u001b[0m\u001b[0;34m\u001b[0m\u001b[0;34m\u001b[0m\u001b[0m\n\u001b[1;32m    923\u001b[0m             \u001b[0moptions\u001b[0m\u001b[0;34m=\u001b[0m\u001b[0moptions\u001b[0m\u001b[0;34m,\u001b[0m\u001b[0;34m\u001b[0m\u001b[0;34m\u001b[0m\u001b[0m\n",
            "\u001b[0;32m/usr/local/lib/python3.10/dist-packages/openai/_base_client.py\u001b[0m in \u001b[0;36m_request\u001b[0;34m(self, cast_to, options, remaining_retries, stream, stream_cls)\u001b[0m\n\u001b[1;32m   1003\u001b[0m             \u001b[0;32mif\u001b[0m \u001b[0mretries\u001b[0m \u001b[0;34m>\u001b[0m \u001b[0;36m0\u001b[0m \u001b[0;32mand\u001b[0m \u001b[0mself\u001b[0m\u001b[0;34m.\u001b[0m\u001b[0m_should_retry\u001b[0m\u001b[0;34m(\u001b[0m\u001b[0merr\u001b[0m\u001b[0;34m.\u001b[0m\u001b[0mresponse\u001b[0m\u001b[0;34m)\u001b[0m\u001b[0;34m:\u001b[0m\u001b[0;34m\u001b[0m\u001b[0;34m\u001b[0m\u001b[0m\n\u001b[1;32m   1004\u001b[0m                 \u001b[0merr\u001b[0m\u001b[0;34m.\u001b[0m\u001b[0mresponse\u001b[0m\u001b[0;34m.\u001b[0m\u001b[0mclose\u001b[0m\u001b[0;34m(\u001b[0m\u001b[0;34m)\u001b[0m\u001b[0;34m\u001b[0m\u001b[0;34m\u001b[0m\u001b[0m\n\u001b[0;32m-> 1005\u001b[0;31m                 return self._retry_request(\n\u001b[0m\u001b[1;32m   1006\u001b[0m                     \u001b[0moptions\u001b[0m\u001b[0;34m,\u001b[0m\u001b[0;34m\u001b[0m\u001b[0;34m\u001b[0m\u001b[0m\n\u001b[1;32m   1007\u001b[0m                     \u001b[0mcast_to\u001b[0m\u001b[0;34m,\u001b[0m\u001b[0;34m\u001b[0m\u001b[0;34m\u001b[0m\u001b[0m\n",
            "\u001b[0;32m/usr/local/lib/python3.10/dist-packages/openai/_base_client.py\u001b[0m in \u001b[0;36m_retry_request\u001b[0;34m(self, options, cast_to, remaining_retries, response_headers, stream, stream_cls)\u001b[0m\n\u001b[1;32m   1051\u001b[0m         \u001b[0mtime\u001b[0m\u001b[0;34m.\u001b[0m\u001b[0msleep\u001b[0m\u001b[0;34m(\u001b[0m\u001b[0mtimeout\u001b[0m\u001b[0;34m)\u001b[0m\u001b[0;34m\u001b[0m\u001b[0;34m\u001b[0m\u001b[0m\n\u001b[1;32m   1052\u001b[0m \u001b[0;34m\u001b[0m\u001b[0m\n\u001b[0;32m-> 1053\u001b[0;31m         return self._request(\n\u001b[0m\u001b[1;32m   1054\u001b[0m             \u001b[0moptions\u001b[0m\u001b[0;34m=\u001b[0m\u001b[0moptions\u001b[0m\u001b[0;34m,\u001b[0m\u001b[0;34m\u001b[0m\u001b[0;34m\u001b[0m\u001b[0m\n\u001b[1;32m   1055\u001b[0m             \u001b[0mcast_to\u001b[0m\u001b[0;34m=\u001b[0m\u001b[0mcast_to\u001b[0m\u001b[0;34m,\u001b[0m\u001b[0;34m\u001b[0m\u001b[0;34m\u001b[0m\u001b[0m\n",
            "\u001b[0;32m/usr/local/lib/python3.10/dist-packages/openai/_base_client.py\u001b[0m in \u001b[0;36m_request\u001b[0;34m(self, cast_to, options, remaining_retries, stream, stream_cls)\u001b[0m\n\u001b[1;32m   1003\u001b[0m             \u001b[0;32mif\u001b[0m \u001b[0mretries\u001b[0m \u001b[0;34m>\u001b[0m \u001b[0;36m0\u001b[0m \u001b[0;32mand\u001b[0m \u001b[0mself\u001b[0m\u001b[0;34m.\u001b[0m\u001b[0m_should_retry\u001b[0m\u001b[0;34m(\u001b[0m\u001b[0merr\u001b[0m\u001b[0;34m.\u001b[0m\u001b[0mresponse\u001b[0m\u001b[0;34m)\u001b[0m\u001b[0;34m:\u001b[0m\u001b[0;34m\u001b[0m\u001b[0;34m\u001b[0m\u001b[0m\n\u001b[1;32m   1004\u001b[0m                 \u001b[0merr\u001b[0m\u001b[0;34m.\u001b[0m\u001b[0mresponse\u001b[0m\u001b[0;34m.\u001b[0m\u001b[0mclose\u001b[0m\u001b[0;34m(\u001b[0m\u001b[0;34m)\u001b[0m\u001b[0;34m\u001b[0m\u001b[0;34m\u001b[0m\u001b[0m\n\u001b[0;32m-> 1005\u001b[0;31m                 return self._retry_request(\n\u001b[0m\u001b[1;32m   1006\u001b[0m                     \u001b[0moptions\u001b[0m\u001b[0;34m,\u001b[0m\u001b[0;34m\u001b[0m\u001b[0;34m\u001b[0m\u001b[0m\n\u001b[1;32m   1007\u001b[0m                     \u001b[0mcast_to\u001b[0m\u001b[0;34m,\u001b[0m\u001b[0;34m\u001b[0m\u001b[0;34m\u001b[0m\u001b[0m\n",
            "\u001b[0;32m/usr/local/lib/python3.10/dist-packages/openai/_base_client.py\u001b[0m in \u001b[0;36m_retry_request\u001b[0;34m(self, options, cast_to, remaining_retries, response_headers, stream, stream_cls)\u001b[0m\n\u001b[1;32m   1051\u001b[0m         \u001b[0mtime\u001b[0m\u001b[0;34m.\u001b[0m\u001b[0msleep\u001b[0m\u001b[0;34m(\u001b[0m\u001b[0mtimeout\u001b[0m\u001b[0;34m)\u001b[0m\u001b[0;34m\u001b[0m\u001b[0;34m\u001b[0m\u001b[0m\n\u001b[1;32m   1052\u001b[0m \u001b[0;34m\u001b[0m\u001b[0m\n\u001b[0;32m-> 1053\u001b[0;31m         return self._request(\n\u001b[0m\u001b[1;32m   1054\u001b[0m             \u001b[0moptions\u001b[0m\u001b[0;34m=\u001b[0m\u001b[0moptions\u001b[0m\u001b[0;34m,\u001b[0m\u001b[0;34m\u001b[0m\u001b[0;34m\u001b[0m\u001b[0m\n\u001b[1;32m   1055\u001b[0m             \u001b[0mcast_to\u001b[0m\u001b[0;34m=\u001b[0m\u001b[0mcast_to\u001b[0m\u001b[0;34m,\u001b[0m\u001b[0;34m\u001b[0m\u001b[0;34m\u001b[0m\u001b[0m\n",
            "\u001b[0;32m/usr/local/lib/python3.10/dist-packages/openai/_base_client.py\u001b[0m in \u001b[0;36m_request\u001b[0;34m(self, cast_to, options, remaining_retries, stream, stream_cls)\u001b[0m\n\u001b[1;32m   1018\u001b[0m \u001b[0;34m\u001b[0m\u001b[0m\n\u001b[1;32m   1019\u001b[0m             \u001b[0mlog\u001b[0m\u001b[0;34m.\u001b[0m\u001b[0mdebug\u001b[0m\u001b[0;34m(\u001b[0m\u001b[0;34m\"Re-raising status error\"\u001b[0m\u001b[0;34m)\u001b[0m\u001b[0;34m\u001b[0m\u001b[0;34m\u001b[0m\u001b[0m\n\u001b[0;32m-> 1020\u001b[0;31m             \u001b[0;32mraise\u001b[0m \u001b[0mself\u001b[0m\u001b[0;34m.\u001b[0m\u001b[0m_make_status_error_from_response\u001b[0m\u001b[0;34m(\u001b[0m\u001b[0merr\u001b[0m\u001b[0;34m.\u001b[0m\u001b[0mresponse\u001b[0m\u001b[0;34m)\u001b[0m \u001b[0;32mfrom\u001b[0m \u001b[0;32mNone\u001b[0m\u001b[0;34m\u001b[0m\u001b[0;34m\u001b[0m\u001b[0m\n\u001b[0m\u001b[1;32m   1021\u001b[0m \u001b[0;34m\u001b[0m\u001b[0m\n\u001b[1;32m   1022\u001b[0m         return self._process_response(\n",
            "\u001b[0;31mRateLimitError\u001b[0m: Error code: 429 - {'error': {'message': 'You exceeded your current quota, please check your plan and billing details. For more information on this error, read the docs: https://platform.openai.com/docs/guides/error-codes/api-errors.', 'type': 'insufficient_quota', 'param': None, 'code': 'insufficient_quota'}}"
          ]
        }
      ],
      "source": [
        "astra_vector_store = Cassandra(\n",
        "    embedding=embedding,\n",
        "    table_name=\"qa_mini_demo\",\n",
        "    session=None,\n",
        "    keyspace=None,\n",
        ")"
      ]
    },
    {
      "cell_type": "code",
      "source": [
        "from langchain.text_splitter import CharacterTextSplitter\n",
        "# We need to split the text using Character Text Split such that it sshould not increse token size\n",
        "text_splitter = CharacterTextSplitter(\n",
        "    separator = \"\\n\",\n",
        "    chunk_size = 800,\n",
        "    chunk_overlap  = 200,\n",
        "    length_function = len,\n",
        ")\n",
        "texts = text_splitter.split_text(raw_text)"
      ],
      "metadata": {
        "id": "9FMAhKr77AVO"
      },
      "execution_count": 21,
      "outputs": []
    },
    {
      "cell_type": "code",
      "source": [
        "texts[:50]"
      ],
      "metadata": {
        "colab": {
          "base_uri": "https://localhost:8080/"
        },
        "id": "k8BDHAyT7Gjr",
        "outputId": "bba09bea-ba67-41d3-e27e-f0958904d82d"
      },
      "execution_count": 22,
      "outputs": [
        {
          "output_type": "execute_result",
          "data": {
            "text/plain": [
              "['1 \\n     \\nBUDGET SPEECH 2014 BUDGET SPEECH 2014 BUDGET SPEECH 2014 BUDGET SPEECH 2014- - --15 15 15 15     \\n    \\nEsteemed Members of the Council, \\n \\nIt is a matter of great personal pride for me to prese nt before you the annual \\nbudget of this prestigious Council in its Centenary yea r.  The completion of one \\nhundred years is a major milestone in the history of any organization.  The \\ncommemoration of the Centenary of NDMC is obviously a  time for us to \\ncelebrate, but even more so, a time to celebrate our history.  The success story \\nof NDMC is now a century old and marks the contributio n of so many known and \\nunknown personalities who added significantly to its g rowth.  I stand here first & \\nforemost to pay our tribute to the vision and dedication  of our past leaders,',\n",
              " \"unknown personalities who added significantly to its g rowth.  I stand here first & \\nforemost to pay our tribute to the vision and dedication  of our past leaders, \\nexecutives and thousands of employees, workers who ha ve worked with \\nceaseless passion to build up this organization over th e past century. \\n \\n1.2  The last 100 years were, for NDMC, the era of in frastructure \\ndevelopment, the dawn of a British Capital and the dawn  of a resurgent free \\nIndia's Capital.  Today we stand on the shoulders of g iants to feel possessive \\nabout the most prestigeous Municipal area in the country,  in our further resolve \\nto provide best practices, state of the Art and globaly co mpetetive technology in \\nthe service of our inhabitants, as also our duty to attemp t a vision for the next\",\n",
              " \"to provide best practices, state of the Art and globaly co mpetetive technology in \\nthe service of our inhabitants, as also our duty to attemp t a vision for the next \\ncentury's picture of NDMC area. \\n \\n1.3  With these words, I now present Annual Budget 2014 -15.  \\n \\n2.  I will present the financial projections first. The  revised estimates for \\nrevenue receipts in 2013-14 are projected at ` ` `` 2490.64 crore 2490.64 crore 2490.64 crore 2490.64 crore against `2356.91 `2356.91 `2356.91 `2356.91 \\ncrore crore crore crore provided in BE 2013-14.  The revised estimates  for revenue expenditure in \\n2013-14 are projected at `2489.46 `2489.46 `2489.46 `2489.46 crore crore crore crore as against `2021.57 crore `2021.57 crore `2021.57 crore `2021.57 crore provided in\",\n",
              " '2013-14 are projected at `2489.46 `2489.46 `2489.46 `2489.46 crore crore crore crore as against `2021.57 crore `2021.57 crore `2021.57 crore `2021.57 crore provided in \\nBE 2013-14. In the BE of 2014-15 the revenue receipts are estimated at    `2557.41 `2557.41 `2557.41 `2557.41 \\ncrore crore crore crore and revenue expenditure at `2555.93 crore `2555.93 crore `2555.93 crore `2555.93 crore.  The capital expenditure, is \\nprojected at `293.46 crore `293.46 crore `293.46 crore `293.46 crore in RE 2013-14 and    `441.33 crore `441.33 crore `441.33 crore `441.33 crore in BE 2014-15. This \\nbudget attempts and showcases an organic and sustainable  growth.   2 \\n  \\n3.  I will now mention the function-wise performance and achievements in',\n",
              " \"budget attempts and showcases an organic and sustainable  growth.   2 \\n  \\n3.  I will now mention the function-wise performance and achievements in \\nthe major areas during 2013-14, and the plans and pro jections for the year  \\n2014-15. \\n    \\nROADS AND PAVEMENTS ROADS AND PAVEMENTS ROADS AND PAVEMENTS ROADS AND PAVEMENTS     \\n    \\n3.1  Our attempt is to move towards longer-duration and r epair-free \\ntechnology for roads especially in residential areas  so as to minimise  citizens' \\ndiscomfort. The RCC (Reinforced Cement Concrete) road s in Lodhi Colony have \\nbeen completed and in Bharti Nagar Colony the work wil l be completed within \\nthis financial year. The work of laying cement concre te roads in the residential \\ncolony Sarojini Nagar has also been completed.  The  RMC work of DIZ area,\",\n",
              " 'this financial year. The work of laying cement concre te roads in the residential \\ncolony Sarojini Nagar has also been completed.  The  RMC work of DIZ area, \\nSector-II is in progress and will be completed in the  next financial year. \\n \\n3.2  Resurfacing of roads in Khan Market area through  bituminous mastic \\ntreatment has been completed and work is in progress  at B.K. Dutt Colony, \\nAliganj and Jor Bagh. \\n \\n3.3  Resurfacing of road through micro-surfacing trea tment as \\nrecommended by CRRI is in progress at 34 roads and m icro-surfacing is \\ncomplete at Ashoka Road and Ferozshah Road.  Another 6 roads with micro-\\nsurfacing will be completed in the next financial yea r.  In addition, to minimise \\nthe time and costs towards repairs especially of pothol es and small cuts in roads,',\n",
              " 'surfacing will be completed in the next financial yea r.  In addition, to minimise \\nthe time and costs towards repairs especially of pothol es and small cuts in roads, \\nwe are experimenting with the model of hot mix patches a nd microsurfacing as \\nthe technology of choice.  \\n \\n3.4  To further continue our Road Improvement Program me, CRRI has been \\nrequested for evaluation and to give recommendations f or another 24 roads in \\nNDMC area for resurfacing of roads. \\n    \\n    \\n    3 \\n Resurfacing of colony road by bituminous concrete in  Bharti Nagar and \\ngolf Link and resurfacing of roads in the colony Rab indra Nagar, Lodhi Estate and \\nPandara Road will be carried out during the next finan cial year including the \\nimprovement of the back lane of Jor Bagh Colony.',\n",
              " 'Pandara Road will be carried out during the next finan cial year including the \\nimprovement of the back lane of Jor Bagh Colony. \\n    \\n3.5  Improvement of walkways in Lodhi Colony, Jor Ba gh Road, IInd Avenue \\nand Man Singh Road and improvement of the roundabout i n Bengali Market will \\nbe carried out during the next financial year, reducin g the number of non-\\nfunctional fountains to avoid water wastage and stagnation , and instead \\ndeveloping greenary & horticulture.    \\n \\n3.6  A provision of `108.76 crore `108.76 crore `108.76 crore `108.76 crore has been kept for Roads and Pavements i n \\nBE 2014-15, out of which `50.20 `50.20 `50.20 `50.20 crore crore crore crore are for capital expenditure.',\n",
              " 'BE 2014-15, out of which `50.20 `50.20 `50.20 `50.20 crore crore crore crore are for capital expenditure.  \\n    \\n4. 4. 4. 4.        REDEVELOPMENT OF CONNAUGHT PLACE REDEVELOPMENT OF CONNAUGHT PLACE REDEVELOPMENT OF CONNAUGHT PLACE REDEVELOPMENT OF CONNAUGHT PLACE    \\n    \\n4.1  The grandeur of Connaught Place has been revive d with the \\ncompletion of Redevelopment of Connaught Place Projec t which  included façade \\nrestoration of 12 blocks, Regal Building and P-Block ;  surface development at \\nInner Circle, Radial Roads and Outer circle alongwith  parking area and public \\nplaza.   Besides, five existing subways and two new subways at Gopal Dass \\nBhawan and Statesman House have been completed.  Twenty -two escalators',\n",
              " 'plaza.   Besides, five existing subways and two new subways at Gopal Dass \\nBhawan and Statesman House have been completed.  Twenty -two escalators \\nhave also been provided as per the site feasibility a nd are now in public use. \\n \\n4.2  Dedicated pedestrian corridors at Inner Circle, Middle Circle, Radial \\nRoads and Outer Circle have been created which are in ter-connected through \\ntabletops for the safety and security of the pedestrians,  and are user-friendly for \\nthe disabled.  Display of the block names in Braille language is another salient \\nfeature. \\n    \\n4.3  The Service Corridor (Utility Duct Tunnel) at Midd le Circle, Connaught \\nPlace is complete and various utility services such a s water supply, electricity,',\n",
              " 'feature. \\n    \\n4.3  The Service Corridor (Utility Duct Tunnel) at Midd le Circle, Connaught \\nPlace is complete and various utility services such a s water supply, electricity, \\ntelecommunication services etc., are now being run thr ough this service corridor.  \\nThis tunnel was opened for visit by the general public  for ten days, and we join 4 \\n the general public in appreciation of hard-work of ou r engineers.  The control \\nroom for the service corridor will commence shortly w ith an O&M for it.  The \\nenormity of the project can be gauged by the fact that for  the past century, \\nthere were almost no instances of subterranean repairs , inspection or even clear \\nmaps & plans of these tunnels. \\n \\n4.4  The mechanized housekeeping in Connaught Place at corridors, public',\n",
              " 'there were almost no instances of subterranean repairs , inspection or even clear \\nmaps & plans of these tunnels. \\n \\n4.4  The mechanized housekeeping in Connaught Place at corridors, public \\nplaza, footpaths, parking areas, toilets, subways etc. w ill be carried out in the \\ncoming years under Design, Built, Operate & Transfer (DBOT) basis with \\nprovision for installation of street furniture by the co ncessionaire.   \\n \\n4.5  Connaught Place/ Circus, or Rajiv Chowk/ Indira  Chowk as it stands \\nrenamed since 1995, is the pride of NDMC area.  The work is by no means \\nentirely as per our commitment to ourselves, yet the c rowds that eventually \\nthronged the C.P. Festival did point to the enthusiasm and  never-say-die attitude \\nof the Delhi Shopper to grab sales offers.',\n",
              " 'thronged the C.P. Festival did point to the enthusiasm and  never-say-die attitude \\nof the Delhi Shopper to grab sales offers. \\n \\n  Areas such as Scindia House, Middle Circle and the  Radial Roads, left \\nout during 2010, will be more exhaustively planned fo r revival.  We envisage \\nthat some day soon, the tunnel infrastructure can be use d for  Centralised Air-\\nConditioning of the Connaught Place Complex and even th e surrounding multi-\\nstoreyed buildings, apart from water, electricity and oth er Civic Amenities.  We \\nwould be engaging financial & technical consultants thi s year and \\nimplementation would commence in the next financial ye ar.  \\n    \\n    \\n5. 5. 5. 5.        ELECTRICITY ELECTRICITY ELECTRICITY ELECTRICITY',\n",
              " 'implementation would commence in the next financial ye ar.  \\n    \\n    \\n5. 5. 5. 5.        ELECTRICITY ELECTRICITY ELECTRICITY ELECTRICITY    \\n    \\n5.1  Construction of four new 33 KV Sub-stations at Chur ch Road, Janpath, \\nAliganj & Delhi High Court were planned in the previo us two years.  Sub-station \\nbuildings for 33 KV Sub-station at Aliganj and at Delhi  High Court are being \\nconstructed by CPWD/ Delhi PWD.  The establishment of 33 KV Sub-stations at \\nthese two sites will be completed in the next financial  year after handover of \\nbuilt-up area by these agencies.  As regards constru ction of a 33 KV Sub-Station 5 \\n at Janpath, an alternative site at the parking behind Tol stoy Marg has been \\nidentified after DDA had rejected the proposal for all otment of land.  Building',\n",
              " 'at Janpath, an alternative site at the parking behind Tol stoy Marg has been \\nidentified after DDA had rejected the proposal for all otment of land.  Building \\nPlan/ structural drawings for the same are being final ized and we expect to \\ncomplete the project in the next financial year.  Cons truction of a 33 KV Sub-\\nStation at Church Road, for which MoU with DMRC has bee n revised, is now \\nexpected to be completed in 2015-16. \\n \\n5.2  After completion of work for construction of elev en nos. 11 KV Sub-\\nStations, we plan to establish 11 KV Sub-Stations at Ameri can Embassy School, \\nChanakya Puri and Africa  Avenue Cross Road No.II i n addition to establishing 11 \\nKV Sub-station under the redevelopment plan for Sunehar i Bagh & Palika Gram \\nin the next financial year.',\n",
              " 'Chanakya Puri and Africa  Avenue Cross Road No.II i n addition to establishing 11 \\nKV Sub-station under the redevelopment plan for Sunehar i Bagh & Palika Gram \\nin the next financial year. \\n \\n5.3  The work of installation of CCTV cameras in our commercial & office \\ncomplexes and electric sub-station buildings, which was announced last year, \\nhas already been awarded and will be completed in th e next financial year  \\n2014-15. \\n \\n5.4  Apart from creating additional electricity distributi on capacity through \\nconstruction of new 33 KV / 11 KV Sub-stations, we have  regularly been \\naugmenting and replacing our old electrical installati ons to ensure uninterrupted \\nelectricity supply to residents/ consumers in NDMC are a.  We shall take  up',\n",
              " 'augmenting and replacing our old electrical installati ons to ensure uninterrupted \\nelectricity supply to residents/ consumers in NDMC are a.  We shall take  up \\naugmentation of one 33 KV electric sub-station at Kidwai Nagar, augmentation of \\n11 KV electric sub-stations at  Sapru House and at Air Force Station, Race \\nCourse; besides augmentation and replacement of vari ous electrical feeder \\ncables; equipments; plant & machinery. \\n \\n5.5  A provision of    `1018.79 crore `1018.79 crore `1018.79 crore `1018.79 crore in BE 2014-15 has been kept for \\nElectricity out of which `87.31 crore are `87.31 crore are `87.31 crore are `87.31 crore are for capital expenditure including `1 8.66 `18.66 `18.66 `18.66 \\ncrore crore crore crore for replacement works. \\n    \\n    \\n    6',\n",
              " 'crore crore crore crore for replacement works. \\n    \\n    \\n    6 \\n 6. 6. 6. 6.        WATER SUPPLY WATER SUPPLY WATER SUPPLY WATER SUPPLY    \\n    \\n6.1 The work of replacement of 450 mm dia water mains  along Tilak Marg \\nfrom Sikandra Road to UGR at Tilak Lane Boosting Station  and installation of \\ndeep well hand pumps at various locations undertaken l ast year have been \\ncompleted. \\n \\n6.2 The Detailed Project Report for `153 crore `153 crore `153 crore `153 crore in respect of the project of \\n“Uninterrupted 24X7 Water Supply in NDMC area” has alr eady been approved \\nby the Council.  The Project was submitted to MoUD for funding under JNNURM \\nand I am glad to inform that the scheme has been approv ed in principle and the',\n",
              " 'by the Council.  The Project was submitted to MoUD for funding under JNNURM \\nand I am glad to inform that the scheme has been approv ed in principle and the \\nfinal approval is expected soon.  This should be a model for civic agencies in \\nthat it involves the sustainable concept of saving, recyc ling and waste \\nminimisation as the three core approaches simultaneou sly. \\n \\n6.3 To further improve the water supply in NDMC area the following work \\nshall be taken up during 2014-15 :  \\n \\ni)  Recasting of roof slab of U/G water tank at Laxmi Bai N agar, New Delhi;     \\nii)  Augmentation of municipal water mains running at Pt. Pa nt Marg & \\nParliament Street to provide water to the PHA Extension bui lding;     \\niii)  Replacement of old 9 inch dia line with DI pipe of 25 0 mm from 16',\n",
              " 'Parliament Street to provide water to the PHA Extension bui lding;     \\niii)  Replacement of old 9 inch dia line with DI pipe of 25 0 mm from 16 \\nBlock to 22 Block, Lodhi Colony;     \\niv)  Replacement of 75mm DI line with 150mm dia line at San sad Marg;    \\nv)  Replacement of old pipeline in Bengali Market Area;    \\nvi)  Replacement of old water mains in the Back Lanes of Pu rana Quila \\nRoad, Mathura Road, Guru Har Kishan Public School, P atiala House \\nCourts & adjoining area;     \\nvii)  Replacement of old 5” dia CI line with 150mm DI line at Safdarjung \\nlane, New Delhi;    \\n \\n    7 \\n viii)  Replacement of 100/50/30HP Pump sets with new (same ca pacity) \\nPump sets along with electrical/ mechanical fixtures u nder the \\njurisdiction of Jor Bagh/Tilak Marg Service Centres;',\n",
              " '7 \\n viii)  Replacement of 100/50/30HP Pump sets with new (same ca pacity) \\nPump sets along with electrical/ mechanical fixtures u nder the \\njurisdiction of Jor Bagh/Tilak Marg Service Centres;  \\nix)  Procurement of 10 Nos. Water Tanker & 10 Nos. Water Tr olleys made \\nof stainless steel. \\n    \\n6.4  A budget provision of `121.34 `121.34 `121.34 `121.34 crore crore crore crore has been kept for Water supply \\nservices in the BE 2014-15, out of which `12.16 `12.16 `12.16 `12.16 crore crore crore crore are for capital expenditure. \\n    \\n7. 7. 7. 7.        SEWERAGE SEWERAGE SEWERAGE SEWERAGE    \\n    \\n7.1  The work of improvement of sewerage system at Suj an Singh Park, \\nKhan Market, Princess Park (Part-I) and Tilak Marg h ave been completed.',\n",
              " '7.1  The work of improvement of sewerage system at Suj an Singh Park, \\nKhan Market, Princess Park (Part-I) and Tilak Marg h ave been completed. \\n \\n7.2  As announced last year, the Pilot Project for con struction of Tertiary \\nTreatment Plant at Talkatora Garden has been started and s hall be completed in \\nthe next financial year. \\n \\n7.3  Desilting & Rehabilitation of Sewer Line at Ashok a Road from \\nNirwachan Sadan to C-Hexagon; and; desilting and Reha bilitation of 84 inch dia \\nbrick barrel sewer line from Kasturba Gandhi Marg, C -Hexagon & Shahjahan \\nRoad to Q Point have already been taken up and will be  completed in the next \\nfinancial year. \\n \\n7.4  A budget provision of `47.06 crore `47.06 crore `47.06 crore `47.06 crore has been kept for sewerage in BE',\n",
              " 'financial year. \\n \\n7.4  A budget provision of `47.06 crore `47.06 crore `47.06 crore `47.06 crore has been kept for sewerage in BE \\n2014-15 out of which `4.98 crore `4.98 crore `4.98 crore `4.98 crore are for capital expenditure. \\n \\n8. 8. 8. 8.        STORM WATER DRAINAGE STORM WATER DRAINAGE STORM WATER DRAINAGE STORM WATER DRAINAGE    \\n    \\n8.1  The storm water drainage system in NDMC area will  be improved as \\nper the advice of IIT, Delhi and the retrofitting, if r equired, will also be carried out \\nafter de-silting the drainage system. \\n    8 \\n 8.2  The work of providing 126 Nos. rain water harve sting pits in Moti Bagh, \\nNetaji Nagar, Sarojini Nagar and Laxmi Bai Nagar CPW D colonies will be taken up \\nin next financial year 2014-15.',\n",
              " \"Netaji Nagar, Sarojini Nagar and Laxmi Bai Nagar CPW D colonies will be taken up \\nin next financial year 2014-15.    \\n    \\n8.3  A provision of `4.57 `4.57 `4.57 `4.57 crore crore crore crore has been kept for Storm Water Drainage \\nsystem in BE 2014-15, out of which `3.27 crore `3.27 crore `3.27 crore `3.27 crore are for capital expenditure. \\n    \\n9. 9. 9. 9.        HORTICULTURE HORTICULTURE HORTICULTURE HORTICULTURE    \\n \\n9.1  We plan to maintain NDMC's prestigious place as the greenest \\nMunicipal Area in the Country.  To this end, developme nt of garden huts in \\nmajor gardens has been completed whereas the work for  Topiary Garden in \\nTalkatora Garden is in progress. \\n \\n9.2  The School of Gardening – an NDMC initiative to enhance the\",\n",
              " 'major gardens has been completed whereas the work for  Topiary Garden in \\nTalkatora Garden is in progress. \\n \\n9.2  The School of Gardening – an NDMC initiative to enhance the \\nknowledge and work efficiency in Horticulture – has tr ained 2700-plus field \\nofficers and staff, not only from NDMC but also from Central, South and West \\nZones of South Delhi Municipal Corporation.  We plan to include interested \\nRWAs, schools, Eco-Clubs and general public for trai ning sessions in NDMC \\nSchool of Gardening \\n \\n9.3  We plan to undertake the following new horticulture  works in the next \\nfinancial year : \\n \\ni)  A green house shall be provided in the Nursery at Cir cular Road;  \\nii)  Different types of Garden Huts shall be created in vari ous parks at \\nLaxmi Bai Nagar/Sarojini Nagar;',\n",
              " 'financial year : \\n \\ni)  A green house shall be provided in the Nursery at Cir cular Road;  \\nii)  Different types of Garden Huts shall be created in vari ous parks at \\nLaxmi Bai Nagar/Sarojini Nagar; \\niii)  A Fragrance Park shall be developed in Laxmi Bai Na gar; \\niv)  A new Cactus House shall be created at Lodhi Garden N ursery; \\nv)  10 Nos. acupressure paths shall be created in variou s parks of Sarojini \\nNagar, Malcha Marg, DIZ area and Jor Bagh;  \\n 9 \\n vi)  Central verge and both sides of Shanti Path (from Railw ay Museum to \\nRing Road) shall be beautified by different horticultur al features. \\n \\n9.4  A provision of `75.52 crore `75.52 crore `75.52 crore `75.52 crore has been kept for Parks & Gardens in B E \\n2014-15.',\n",
              " 'Ring Road) shall be beautified by different horticultur al features. \\n \\n9.4  A provision of `75.52 crore `75.52 crore `75.52 crore `75.52 crore has been kept for Parks & Gardens in B E \\n2014-15. \\n \\n10, 10, 10, 10,    PUBLIC HEALTH AND SANITATION PUBLIC HEALTH AND SANITATION PUBLIC HEALTH AND SANITATION PUBLIC HEALTH AND SANITATION  \\n \\n10.1 We are planning to upgrade the Solid Waste Manag ement \\n(Environmental Sanitation) in the entire NDMC area thro ugh Integrated Waste \\nManagement System an - ‘end-to-end’ solution to waste man agement, by \\ncollecting waste from doorsteps and transporting the gar bage for disposal at \\nTOWMCL Plant, Okhla in a scientific and mechanized m anner, eliminating the \\nneed for \"dhalao\"  points, which become the cause of  unhygenic conditions and',\n",
              " 'TOWMCL Plant, Okhla in a scientific and mechanized m anner, eliminating the \\nneed for \"dhalao\"  points, which become the cause of  unhygenic conditions and \\ncitizen dissatisfaction.  Eventually, these dhalaos wi ll be converted to Public \\nToilets.  We have finalized the RFP in which the munic ipal solid waste will be \\ncollected from the doorsteps by auto tipper trucks transpo rting it by mechanical \\ncompactors to Timarpur-Okhla Waste Management Co. Ltd. (TOWMCL) Plant, \\nOkhla.  \\n \\n10.2 As part of this process, plan to construct state-of-th e-art Transfer \\nStations in NDMC area for increasing efficiency in co llection of waste,  towards \\nquick removal of garbage as well as timely availabil ity of garbage transport',\n",
              " 'Stations in NDMC area for increasing efficiency in co llection of waste,  towards \\nquick removal of garbage as well as timely availabil ity of garbage transport \\nvehicles. Removal of garbage from Transfer Stations to  terminal disposal site will \\nbe easy during nights, there being lesser traffic on the roads at that time.  The \\nprocess will be eventually on \"Just-in-time\" princi ple, to prevent garbage spillage \\nat the junctions. \\n \\n10.3 We are also planning to procure new and improve d insecticides for \\nvector control programme in NDMC area.  Besides crea ting awareness among \\nresident welfare associations, market trade association s, contractors of CPWD \\nbuildings etc. about the use of new design coolers in  which mosquito shall be',\n",
              " 'resident welfare associations, market trade association s, contractors of CPWD \\nbuildings etc. about the use of new design coolers in  which mosquito shall be \\nprevented to enter and breed,  we will be establishing  an Entomology Lab in 10 \\n which the vectors transmitting diseases shall be identi fied for timely prevention \\nof diseases. \\n \\n10.4 Micro filming/ digitization of old Birth & Death records available with \\nNDMC alongwith translation of Urdu/ Parsi Birth & Death records into English \\nlanguage is under process.  \\n \\n10.5 We have already upgraded our Public Health Labo ratory and have \\nstarted the water poison detection testing for VIP/ critic al buildings/ complexes. \\n \\n10.6 A provision of `100.09 crore `100.09 crore `100.09 crore `100.09 crore has been kept for Public Health and',\n",
              " 'started the water poison detection testing for VIP/ critic al buildings/ complexes. \\n \\n10.6 A provision of `100.09 crore `100.09 crore `100.09 crore `100.09 crore has been kept for Public Health and \\nSanitation services in BE 2014-15. \\n \\n11. 11. 11. 11.    MEDICAL SERVICES MEDICAL SERVICES MEDICAL SERVICES MEDICAL SERVICES    \\n \\n11.1 Already our medical services are rated fairly h ighly in quality, and we \\naim to make it completely patient-centric in approach &  delivery.   In \\ncontinuation of our sustained efforts to upgrade Health C are Services and to \\nachieve standard in  providing quality care to patients,  accreditation of two more \\ndispensaries - at Palika Kendra and Rohini - by NAB H (National Accreditation',\n",
              " 'achieve standard in  providing quality care to patients,  accreditation of two more \\ndispensaries - at Palika Kendra and Rohini - by NAB H (National Accreditation \\nBoard of Hospitals) has been achieved whereas certif ication/ accreditation in \\nrespect of three dispensaries at Babar Road, Lodhi Roa d and Bapu Dham is \\nexpected shortly.  The process of accreditation in res pect of all remaining \\ndispensaries is underway and will continue in the nex t financial year too. \\n \\n11.2 I am glad to inform that the new additional block  at Palika Maternity \\nHospital, Lodhi Colony, has been made functional alon gwith the renovated old \\nblock in January, 2014; with modular Operation Theatre  (OT) and a total of 65 \\nbed capacity. \\n \\n \\n 11',\n",
              " 'Hospital, Lodhi Colony, has been made functional alon gwith the renovated old \\nblock in January, 2014; with modular Operation Theatre  (OT) and a total of 65 \\nbed capacity. \\n \\n \\n 11 \\n 11.3 We plan to further strengthen the Dental Services in  NDMC area by \\nopening of four new Dental Clinics at Poly Clinic Sha heed Bhagat Singh Marg, \\nSchool Health Services Aanchal, Sarojini Nagar Matern ity Centre Complex and \\nPalika Maternity Hospital Complex, Lodhi Colony, durin g the next financial year. \\n \\n11.4 We are in the process of development of a medica l Information System \\nfor all the medical establishments/ institutions of NDM C in the next financial year \\nwhich aims to improve the efficiency in delivery of medical care through net',\n",
              " 'for all the medical establishments/ institutions of NDM C in the next financial year \\nwhich aims to improve the efficiency in delivery of medical care through net \\nbased inter-linking of all the units; maintaining centra lized data base for \\nregistration, admission, medication and other details o f patients; inventory \\nmanagement of medical stores etc. \\n \\n11.5 A provision of `75.03 crore `75.03 crore `75.03 crore `75.03 crore has been kept for Medical Services \\nincluding Primary health care in BE 2014-15 out of wh ich `8.46 crore `8.46 crore `8.46 crore `8.46 crore are for \\ncapital expenditure. \\n \\n12. 12. 12. 12.        EDUCATION EDUCATION EDUCATION EDUCATION    \\n \\n12.1 It is proposed to set up a state-of-the-art \"Trainin g Institute for Primary',\n",
              " 'capital expenditure. \\n \\n12. 12. 12. 12.        EDUCATION EDUCATION EDUCATION EDUCATION    \\n \\n12.1 It is proposed to set up a state-of-the-art \"Trainin g Institute for Primary \\nTeachers” in the next financial year for which buildi ng space/ infrastructure is \\nalready available at Women Technical Institute, Netaji N agar to cater to the \\ntraining needs of at least 50 teachers at a time.  The tr aining institute will be a \\nresidential, self sufficient institution with 24-hour c anteen/ kitchen facility.  The \\ntraining institute will set bench marks in teaching stand ards and will help in \\nsetting up a yardstick for measuring performance and a scertaining \\naccountability of teachers. \\n \\n12.2 It is also proposed to set up a Residential Facili ty for 50 girl students',\n",
              " 'setting up a yardstick for measuring performance and a scertaining \\naccountability of teachers. \\n \\n12.2 It is also proposed to set up a Residential Facili ty for 50 girl students \\nupto the age of 18 years for which the building/ infra structure is already \\navailable and the entire furniture requirement will be met by purchases from \\nTihar Jail. \\n \\n 12 \\n 12.3 To enhance the sports facilities, setting up of 6  Lawn Tennis Courts, 2 \\nIndoor Courts for Badminton and Athletics; 6 Basketball  courts, and a Gym with \\ncoaches & support staff in all Sr. Sec. Schools will be taken up in the next \\nfinancial year \\n \\n12.4 A provision of `14 `14 `14 `141.44 crore 1.44 crore 1.44 crore 1.44 crore has been kept for Education Services with',\n",
              " 'financial year \\n \\n12.4 A provision of `14 `14 `14 `141.44 crore 1.44 crore 1.44 crore 1.44 crore has been kept for Education Services with \\ncapital outlay of `4.04 crore `4.04 crore `4.04 crore `4.04 crore in BE 2014-15. \\n    \\n13. 13. 13. 13.    INFORMATION TECHNOLOGY INFORMATION TECHNOLOGY INFORMATION TECHNOLOGY INFORMATION TECHNOLOGY    \\n \\n13.1 Use of information technology to provide efficien t, transparent, \\naccountable and quick delivery of services is impera tive in today’s modern \\nworld, and, NDMC has long been keeping pace in this direction too. \\n \\n13.2 Online Building Plan Approval System as propose d last year has been \\nrolled out and is available in public domain.  The s ystem will speed up the \\nprocess of receipt and approval of building plans a longwith promoting',\n",
              " 'rolled out and is available in public domain.  The s ystem will speed up the \\nprocess of receipt and approval of building plans a longwith promoting \\nstandardization and transparency. \\n \\n  Similarly, online booking of Barat Ghars and GIS M apping of all visible \\nassets like trees, manholes, street lights, storm water  drains, bollards, signages, \\ntransformers etc. has also been completed and the GIS map is  now available on \\nNDMC portal for reference by all stakeholders and gen eral public. \\n \\n13.3 An NDMC 24X7 Call Centre for handling customer q ueries, complaints \\n& feedback in Hindi and English is now available, w hich not only provides \\nacknowledgements but also respective response through n et/ SMS and outbound',\n",
              " '& feedback in Hindi and English is now available, w hich not only provides \\nacknowledgements but also respective response through n et/ SMS and outbound \\ncalls.  This service has been widely successful in outreach, especially as it bases \\nitself on telephone calls as against written or emaile d grievances.  It also \\nincludes the unique system of Authority upscaling autom atically to avoid \\ndelayed responses.  \\n   13 \\n 13.4 We plan to take forward our IT/ e-Governance ini tiatives through \\nimplementation of Office Automation System (e-Office) i n the next financial year \\nbesides computerization of receipt & disposal process of RTI applications, Estate \\n& Enforcement Departments.  E-Office System will cover  e-File Module, Court',\n",
              " 'besides computerization of receipt & disposal process of RTI applications, Estate \\n& Enforcement Departments.  E-Office System will cover  e-File Module, Court \\nCase Management System (CCMS); Knowledge Management s ystem (KMS) etc., \\nand the list will only grow. \\n \\n13.5 A provision of `10.17 crore `10.17 crore `10.17 crore `10.17 crore has been kept for Information Technolog y \\ninfrastructures/ services in BE 2014-15 out of which ` 8.95 crore `8.95 crore `8.95 crore `8.95 crore are for capital \\nexpenditure. \\n \\n14. 14. 14. 14.        UPGRADATION/ RENOVATION OF MUNICIPAL MARKETS UPGRADATION/ RENOVATION OF MUNICIPAL MARKETS UPGRADATION/ RENOVATION OF MUNICIPAL MARKETS UPGRADATION/ RENOVATION OF MUNICIPAL MARKETS',\n",
              " '14.1 The project/ work to upgrade/ renovate eight muni cipal markets was \\nawarded last year.  The work has been completed in M ini Market Laxmi Bai \\nNagar, Vegetable Stall Market, Netaji Nagar and Babar Market, Lodhi Colony; \\nwhereas work is in an advance stage of completion at Suvidha Market Netaji \\nNagar, Municipal Market Babar Road.  The work at Kris hna Menon Lane Market, \\nTilak Lane Market and Municipal Market, Kaka Nagar co uld not be started as \\nshops are yet to be handed over by the shopkeepers. \\n \\n14.2 To continue our efforts to upgrade/ renovate vario us commercial \\ncomplexes and municipal markets in NDMC area, we fu rther plan to carry out \\nimprovement work in Mohan Singh Place, Mayur Bhawan,  Palika Bazar, Lok',\n",
              " 'complexes and municipal markets in NDMC area, we fu rther plan to carry out \\nimprovement work in Mohan Singh Place, Mayur Bhawan,  Palika Bazar, Lok \\nNayak Bhawan and Palika Place during the next financ ial year with a special \\nfocus on upkeep & cleanliness of all major commerci al complexes and municipal \\nmarkets. \\n \\n14.3 A provision of `181.24 crore `181.24 crore `181.24 crore `181.24 crore has been kept in BE 2014-15 for Munic ipal \\nMarkets out of which `115.66 crore `115.66 crore `115.66 crore `115.66 crore are for capital expenditure. \\n \\n \\n \\n 14 \\n 15. 15. 15. 15.        NEW NEW NEW NEW PROJECTS PROJECTS PROJECTS PROJECTS    \\n    \\n15.1 We have rejuvenated our Project Planning Departm ent for \\nimplementing various projects identified on the basis  of contemporary',\n",
              " '15.1 We have rejuvenated our Project Planning Departm ent for \\nimplementing various projects identified on the basis  of contemporary \\ndevelopments in other cities of the Country. \\n \\n15.2 Parking space has always been a challenge for us.  Although we \\ndeveloped two  multi-level fully automated parkings, the y have not been \\ncomplete success stories possibly due to perceptions  & habits, and possibly \\nparallel urban planning in the markets is also called  for.  Now, we need to plan \\nfor decongesting major shopping destinations such as Khan Market,  Gole Market \\n& INA/ Dilli Haat Area.   We are working towards unde rground Car-corridors \\naround these markets & link them to newly identified si tes in & around these',\n",
              " '& INA/ Dilli Haat Area.   We are working towards unde rground Car-corridors \\naround these markets & link them to newly identified si tes in & around these \\nmarkets while also fully tapping the available to maxi mise financial feasibility. \\n \\n15.3 In transport sector we are working towards a compr ehensive plan for \\nnon-motorised transport in NDMC as well as full automati on of existing surface \\nparking within a very short time. \\n \\n15.4   We have signed an MoU with SECI (Solar Energy  Corporation of India) \\nfor executing roof top solar energy generation module s on our major buildings.  \\nWe are also working towards a policy for incentivis ing use of solar energy by the \\ncommon citizen, as we believe it will be a success on ly if the citizen is made an',\n",
              " 'We are also working towards a policy for incentivis ing use of solar energy by the \\ncommon citizen, as we believe it will be a success on ly if the citizen is made an \\ninterested stakeholder in this, and thereby create a mas s movement of energy \\nsaving and self sustainable power production. \\n \\n15.5 We aim to further reduce upto 2 MW of energy from  streetlights \\nthrough progressive, replacement of uneconomical ligh t sources by use of LED & \\nother conservation measures. \\n \\n15.6   This year we also plan to introduce a CCTV bas ed system to monitor \\nthe entire public space in NDMC to assist and secure th e senior citizens, women \\n& children through general vigil and not just crime or  accidents control. \\n 15 \\n 15.7 We are working towards making NDMC a fully WiFi  area.  We have',\n",
              " '& children through general vigil and not just crime or  accidents control. \\n 15 \\n 15.7 We are working towards making NDMC a fully WiFi  area.  We have \\nfinalised the design for common streetlight poles with LED lights, Security \\nCameras and WiFi antennas to save costs. \\n \\n15.8 Recently we experimented with placing a coffee s hop in one of our \\nsubways.  It has been a successful venture in terms of providing footfall & \\nsecurity in the subways. \\n \\n15.9 Having learnt from our experiences while renova ting Connaught Place, \\nwe plan to redevelop other four important markets i.e., Khan Market, Gole \\nMarket, Sarojini Nagar Market & INA/ Dilli Haat.  Alon gwith creation of \\nunderground traffic corridors, pedestrianisation, comm on A.C. units & LED will be',\n",
              " 'Market, Sarojini Nagar Market & INA/ Dilli Haat.  Alon gwith creation of \\nunderground traffic corridors, pedestrianisation, comm on A.C. units & LED will be \\nthe important features of these multi-pronged redevelopm ent projects. \\n \\n15.10 A provision of `10 crore `10 crore `10 crore `10 crore for New Projects has been kept in Budget \\nEstimate 2014-15. \\n \\n16. 16. 16. 16.        FIRE SAFETY FIRE SAFETY FIRE SAFETY FIRE SAFETY    \\n    \\n16.1 Fire Suppression Systems have already been prov ided in the eight \\nremaining Electric Sub-Stations during the current fina ncial year.  Now the total \\nnumber of Electric Sub Stations equipped with Fire Supp ression System has \\nincreased to 23.  We plan to provide Fire suppression  Systems in additional',\n",
              " 'number of Electric Sub Stations equipped with Fire Supp ression System has \\nincreased to 23.  We plan to provide Fire suppression  Systems in additional \\ntwenty one of Electric Sub-Stations during the next financ ial year. \\n \\n16.2 The work of converting the Conventional System in to Addressable/ \\nSemi-Addressable Micro Processor Based Fire Alarm a nd Detection System in six \\nadditional buildings will be completed by March, 201 4. \\n \\n  Addressable System existing in NDCC Phase-II; Tal katora Stadium \\n(including Facility Block) and Shivaji Stadium will b e upgraded by providing the \\nlatest software based technology for speedy detection of  any kind of fire. \\n 16 \\n 16.3 A fairly ambitious programme is of establishing  Wireless Addressable',\n",
              " 'latest software based technology for speedy detection of  any kind of fire. \\n 16 \\n 16.3 A fairly ambitious programme is of establishing  Wireless Addressable \\nFire Alarm Detection and Communication System with TCP / IP based Centralized \\nMonitoring Station (CMS).  In the first phase, 20 munici pal buildings will be taken \\nup for integration with CMS besides installation of Smo ke Management System in \\nPalika Parking, Talkatora Stadium, Lok Nayak Bhawan, Palika Bhawan, Chander \\nLok Building, Mayur Bhawan and Palika Kendra during  the next financial year.  \\nThis involves prompt electronic identification of thre at and identification of the \\nexact location, reducing response time by hours there by saving resources from \\ndamage.',\n",
              " 'This involves prompt electronic identification of thre at and identification of the \\nexact location, reducing response time by hours there by saving resources from \\ndamage. \\n \\n16.4 A provision of `11.64 crore `11.64 crore `11.64 crore `11.64 crore has been kept for Fire Services and Dis aster \\nManagement in BE 2014-15. \\n    \\n17. 17. 17. 17.        PUBLIC GRIEVANCES REDRESSAL & CONSUMER FACILITATIO N PUBLIC GRIEVANCES REDRESSAL & CONSUMER FACILITATIONPUBLIC GRIEVANCES REDRESSAL & CONSUMER FACILITATIONPUBLIC GRIEVANCES REDRESSAL & CONSUMER FACILITATION     \\n    \\n17.1 Apart from the online call centre, as mentioned i n Para 13.3 above, \\nconstruction of a centralised Service Centre Complex a t Fire Brigade Lane for']"
            ]
          },
          "metadata": {},
          "execution_count": 22
        }
      ]
    },
    {
      "cell_type": "markdown",
      "metadata": {
        "id": "V1WK54-74Rpt"
      },
      "source": [
        "### Load the dataset into the vector store\n",
        "\n"
      ]
    },
    {
      "cell_type": "code",
      "execution_count": 23,
      "metadata": {
        "colab": {
          "base_uri": "https://localhost:8080/",
          "height": 211
        },
        "id": "GX5BECsdSUUM",
        "outputId": "5feb0289-0fdd-4350-db09-d7df1ae930ef"
      },
      "outputs": [
        {
          "output_type": "error",
          "ename": "NameError",
          "evalue": "name 'astra_vector_store' is not defined",
          "traceback": [
            "\u001b[0;31m---------------------------------------------------------------------------\u001b[0m",
            "\u001b[0;31mNameError\u001b[0m                                 Traceback (most recent call last)",
            "\u001b[0;32m<ipython-input-23-5b9d5e716dab>\u001b[0m in \u001b[0;36m<cell line: 1>\u001b[0;34m()\u001b[0m\n\u001b[0;32m----> 1\u001b[0;31m \u001b[0mastra_vector_store\u001b[0m\u001b[0;34m.\u001b[0m\u001b[0madd_texts\u001b[0m\u001b[0;34m(\u001b[0m\u001b[0mtexts\u001b[0m\u001b[0;34m[\u001b[0m\u001b[0;34m:\u001b[0m\u001b[0;36m50\u001b[0m\u001b[0;34m]\u001b[0m\u001b[0;34m)\u001b[0m\u001b[0;34m\u001b[0m\u001b[0;34m\u001b[0m\u001b[0m\n\u001b[0m\u001b[1;32m      2\u001b[0m \u001b[0;34m\u001b[0m\u001b[0m\n\u001b[1;32m      3\u001b[0m \u001b[0mprint\u001b[0m\u001b[0;34m(\u001b[0m\u001b[0;34m\"Inserted %i headlines.\"\u001b[0m \u001b[0;34m%\u001b[0m \u001b[0mlen\u001b[0m\u001b[0;34m(\u001b[0m\u001b[0mtexts\u001b[0m\u001b[0;34m[\u001b[0m\u001b[0;34m:\u001b[0m\u001b[0;36m50\u001b[0m\u001b[0;34m]\u001b[0m\u001b[0;34m)\u001b[0m\u001b[0;34m)\u001b[0m\u001b[0;34m\u001b[0m\u001b[0;34m\u001b[0m\u001b[0m\n\u001b[1;32m      4\u001b[0m \u001b[0;34m\u001b[0m\u001b[0m\n\u001b[1;32m      5\u001b[0m \u001b[0mastra_vector_index\u001b[0m \u001b[0;34m=\u001b[0m \u001b[0mVectorStoreIndexWrapper\u001b[0m\u001b[0;34m(\u001b[0m\u001b[0mvectorstore\u001b[0m\u001b[0;34m=\u001b[0m\u001b[0mastra_vector_store\u001b[0m\u001b[0;34m)\u001b[0m\u001b[0;34m\u001b[0m\u001b[0;34m\u001b[0m\u001b[0m\n",
            "\u001b[0;31mNameError\u001b[0m: name 'astra_vector_store' is not defined"
          ]
        }
      ],
      "source": [
        "\n",
        "astra_vector_store.add_texts(texts[:50])\n",
        "\n",
        "print(\"Inserted %i headlines.\" % len(texts[:50]))\n",
        "\n",
        "astra_vector_index = VectorStoreIndexWrapper(vectorstore=astra_vector_store)"
      ]
    },
    {
      "cell_type": "code",
      "source": [],
      "metadata": {
        "id": "KhVf0kir2Uke"
      },
      "execution_count": null,
      "outputs": []
    },
    {
      "cell_type": "markdown",
      "metadata": {
        "id": "oLJp8yPF4Rpt"
      },
      "source": [
        "### Run the QA cycle\n",
        "\n",
        "Simply run the cells and ask a question -- or `quit` to stop. (you can also stop execution with the \"▪\" button on the top toolbar)\n",
        "\n",
        "Here are some suggested questions:\n",
        "- _What is the current GDP?_\n",
        "- _How much the agriculture target will be increased to and what the focus will be_\n"
      ]
    },
    {
      "cell_type": "code",
      "execution_count": null,
      "metadata": {
        "colab": {
          "base_uri": "https://localhost:8080/"
        },
        "id": "MbJugrh7SX3C",
        "outputId": "10e8f954-a113-47a2-a84c-615a9f6e5dc6"
      },
      "outputs": [
        {
          "output_type": "stream",
          "name": "stdout",
          "text": [
            "\n",
            "Enter your question (or type 'quit' to exit): How much the agriculture target will be increased to and what the focus will be\n",
            "\n",
            "QUESTION: \"How much the agriculture target will be increased to and what the focus will be\"\n"
          ]
        },
        {
          "output_type": "stream",
          "name": "stderr",
          "text": [
            "WARNING:cassandra.protocol:Server warning: Top-K queries can only be run with consistency level ONE / LOCAL_ONE / NODE_LOCAL. Consistency level LOCAL_QUORUM was requested. Downgrading the consistency level to LOCAL_ONE.\n"
          ]
        },
        {
          "output_type": "stream",
          "name": "stdout",
          "text": [
            "ANSWER: \"The agriculture credit target will be increased to ` 20 lakh crore with focus on animal husbandry, dairy and fisheries.\"\n",
            "\n",
            "FIRST DOCUMENTS BY RELEVANCE:\n"
          ]
        },
        {
          "output_type": "stream",
          "name": "stderr",
          "text": [
            "WARNING:cassandra.protocol:Server warning: Top-K queries can only be run with consistency level ONE / LOCAL_ONE / NODE_LOCAL. Consistency level LOCAL_QUORUM was requested. Downgrading the consistency level to LOCAL_ONE.\n"
          ]
        },
        {
          "output_type": "stream",
          "name": "stdout",
          "text": [
            "    [0.9327] \"of Millet Research, Hyderabad  will be supported as the Centre of Excellence \n",
            "for sh ...\"\n",
            "    [0.9327] \"of Millet Research, Hyderabad  will be supported as the Centre of Excellence \n",
            "for sh ...\"\n",
            "    [0.9207] \"Agriculture Accelerator Fund  \n",
            "17. An Agriculture Accelerator Fund will be set-up to ...\"\n",
            "    [0.9207] \"Agriculture Accelerator Fund  \n",
            "17. An Agriculture Accelerator Fund will be set-up to ...\"\n",
            "\n",
            "What's your next question (or type 'quit' to exit): What is the current GDP\n",
            "\n",
            "QUESTION: \"What is the current GDP\"\n"
          ]
        },
        {
          "output_type": "stream",
          "name": "stderr",
          "text": [
            "WARNING:cassandra.protocol:Server warning: Top-K queries can only be run with consistency level ONE / LOCAL_ONE / NODE_LOCAL. Consistency level LOCAL_QUORUM was requested. Downgrading the consistency level to LOCAL_ONE.\n"
          ]
        },
        {
          "output_type": "stream",
          "name": "stdout",
          "text": [
            "ANSWER: \"The current GDP is estimated to be 7 per cent.\"\n",
            "\n",
            "FIRST DOCUMENTS BY RELEVANCE:\n"
          ]
        },
        {
          "output_type": "stream",
          "name": "stderr",
          "text": [
            "WARNING:cassandra.protocol:Server warning: Top-K queries can only be run with consistency level ONE / LOCAL_ONE / NODE_LOCAL. Consistency level LOCAL_QUORUM was requested. Downgrading the consistency level to LOCAL_ONE.\n"
          ]
        },
        {
          "name": "stdout",
          "output_type": "stream",
          "text": [
            "    [0.8920] \"estimated to be at 7 per cent. It is notable that this is the highest among all \n",
            "the ...\"\n",
            "    [0.8920] \"estimated to be at 7 per cent. It is notable that this is the highest among all \n",
            "the ...\"\n",
            "    [0.8915] \"multiplier impact on growth and employment. After the subdued period of \n",
            "the pandemi ...\"\n",
            "    [0.8915] \"multiplier impact on growth and employment. After the subdued period of \n",
            "the pandemi ...\"\n",
            "\n",
            "What's your next question (or type 'quit' to exit): quit\n"
          ]
        }
      ],
      "source": [
        "first_question = True\n",
        "while True:\n",
        "    if first_question:\n",
        "        query_text = input(\"\\nEnter your question (or type 'quit' to exit): \").strip()\n",
        "    else:\n",
        "        query_text = input(\"\\nWhat's your next question (or type 'quit' to exit): \").strip()\n",
        "\n",
        "    if query_text.lower() == \"quit\":\n",
        "        break\n",
        "\n",
        "    if query_text == \"\":\n",
        "        continue\n",
        "\n",
        "    first_question = False\n",
        "\n",
        "    print(\"\\nQUESTION: \\\"%s\\\"\" % query_text)\n",
        "    answer = astra_vector_index.query(query_text, llm=llm).strip()\n",
        "    print(\"ANSWER: \\\"%s\\\"\\n\" % answer)\n",
        "\n",
        "    print(\"FIRST DOCUMENTS BY RELEVANCE:\")\n",
        "    for doc, score in astra_vector_store.similarity_search_with_score(query_text, k=4):\n",
        "        print(\"    [%0.4f] \\\"%s ...\\\"\" % (score, doc.page_content[:84]))"
      ]
    },
    {
      "cell_type": "code",
      "source": [],
      "metadata": {
        "id": "dSaUPguw389l"
      },
      "execution_count": null,
      "outputs": []
    }
  ],
  "metadata": {
    "colab": {
      "provenance": []
    },
    "kernelspec": {
      "display_name": "Python 3 (ipykernel)",
      "language": "python",
      "name": "python3"
    },
    "language_info": {
      "codemirror_mode": {
        "name": "ipython",
        "version": 3
      },
      "file_extension": ".py",
      "mimetype": "text/x-python",
      "name": "python",
      "nbconvert_exporter": "python",
      "pygments_lexer": "ipython3",
      "version": "3.10.12"
    }
  },
  "nbformat": 4,
  "nbformat_minor": 0
}